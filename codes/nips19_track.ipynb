{
 "cells": [
  {
   "cell_type": "markdown",
   "metadata": {},
   "source": [
    "### This notebook wrangles the 'track' column for NIPS-2018 data to match it to NIPS-2019 tracks"
   ]
  },
  {
   "cell_type": "markdown",
   "metadata": {},
   "source": [
    "I will read in the NIPS dataset and split the `track` column to create the `main_track` and `track` columns, where:   \n",
    "    `main_track`: the parent track the NIPS conference assigned a track to  \n",
    "    `track`: the child track    \n",
    "    `track_original`: a copy of the original conference assigned track information        \n",
    "\n",
    "for example, for `track_original` = 'Algorithms -- Adversarial Learning':      \n",
    "    `track` = 'Adversarial Learning'    \n",
    "    `main_track` = 'Algorithms'      \n",
    "        "
   ]
  },
  {
   "cell_type": "code",
   "execution_count": 1,
   "metadata": {},
   "outputs": [],
   "source": [
    "import pandas as pd\n",
    "import re"
   ]
  },
  {
   "cell_type": "code",
   "execution_count": 11,
   "metadata": {},
   "outputs": [],
   "source": [
    "#read in 2019 data\n",
    "\n",
    "nips = pd.read_csv(\"../data/nips.csv\")"
   ]
  },
  {
   "cell_type": "code",
   "execution_count": 12,
   "metadata": {},
   "outputs": [
    {
     "data": {
      "text/plain": [
       "year\n",
       "2016    1724\n",
       "2017    1946\n",
       "2018    2846\n",
       "2019    1821\n",
       "dtype: int64"
      ]
     },
     "execution_count": 12,
     "metadata": {},
     "output_type": "execute_result"
    }
   ],
   "source": [
    "nips.groupby(\"year\").size()"
   ]
  },
  {
   "cell_type": "code",
   "execution_count": 23,
   "metadata": {},
   "outputs": [],
   "source": [
    "#subset 2019 data\n",
    "nips19 = nips[nips['year'].astype(int) == 2019].copy()"
   ]
  },
  {
   "cell_type": "code",
   "execution_count": 24,
   "metadata": {},
   "outputs": [],
   "source": [
    "#split the track column to get the main_track info\n",
    "\n",
    "nips19['track_original'] = nips19['track']\n",
    "\n",
    "ot19 = nips19.track.tolist()\n",
    "\n",
    "t19 = []\n",
    "mt19 = []\n",
    "\n",
    "for t in ot19:\n",
    "    t = t.split(\" -- \")\n",
    "    mt19.append(t[0])\n",
    "    t19.append(t[1])\n",
    "    \n",
    "nips19['track'] = t19\n",
    "nips19['main_track'] = mt19"
   ]
  },
  {
   "cell_type": "code",
   "execution_count": 25,
   "metadata": {},
   "outputs": [
    {
     "data": {
      "text/html": [
       "<div>\n",
       "<style scoped>\n",
       "    .dataframe tbody tr th:only-of-type {\n",
       "        vertical-align: middle;\n",
       "    }\n",
       "\n",
       "    .dataframe tbody tr th {\n",
       "        vertical-align: top;\n",
       "    }\n",
       "\n",
       "    .dataframe thead th {\n",
       "        text-align: right;\n",
       "    }\n",
       "</style>\n",
       "<table border=\"1\" class=\"dataframe\">\n",
       "  <thead>\n",
       "    <tr style=\"text-align: right;\">\n",
       "      <th></th>\n",
       "      <th>title</th>\n",
       "      <th>abstract</th>\n",
       "      <th>pdf_link</th>\n",
       "      <th>year</th>\n",
       "      <th>track</th>\n",
       "      <th>track_original</th>\n",
       "      <th>main_track</th>\n",
       "    </tr>\n",
       "  </thead>\n",
       "  <tbody>\n",
       "    <tr>\n",
       "      <th>6516</th>\n",
       "      <td>A Game Theoretic Approach to Class-wise Select...</td>\n",
       "      <td>Selection of input features such as relevant p...</td>\n",
       "      <td>http://papers.nips.cc/paper/by-source-2019-5315</td>\n",
       "      <td>2019</td>\n",
       "      <td>Adversarial Learning</td>\n",
       "      <td>Algorithms -- Adversarial Learning</td>\n",
       "      <td>Algorithms</td>\n",
       "    </tr>\n",
       "    <tr>\n",
       "      <th>6517</th>\n",
       "      <td>A Little Is Enough: Circumventing Defenses For...</td>\n",
       "      <td>Distributed learning is central for large-scal...</td>\n",
       "      <td>http://papers.nips.cc/paper/by-source-2019-4657</td>\n",
       "      <td>2019</td>\n",
       "      <td>Adversarial Learning</td>\n",
       "      <td>Algorithms -- Adversarial Learning</td>\n",
       "      <td>Algorithms</td>\n",
       "    </tr>\n",
       "    <tr>\n",
       "      <th>6518</th>\n",
       "      <td>A New Defense Against Adversarial Images: Turn...</td>\n",
       "      <td>Natural images are virtually surrounded by low...</td>\n",
       "      <td>http://papers.nips.cc/paper/by-source-2019-926</td>\n",
       "      <td>2019</td>\n",
       "      <td>Adversarial Learning</td>\n",
       "      <td>Algorithms -- Adversarial Learning</td>\n",
       "      <td>Algorithms</td>\n",
       "    </tr>\n",
       "    <tr>\n",
       "      <th>6519</th>\n",
       "      <td>Tight Certificates of Adversarial Robustness f...</td>\n",
       "      <td>Strong theoretical guarantees of robustness ca...</td>\n",
       "      <td>http://papers.nips.cc/paper/by-source-2019-2720</td>\n",
       "      <td>2019</td>\n",
       "      <td>Adversarial Learning</td>\n",
       "      <td>Algorithms -- Adversarial Learning</td>\n",
       "      <td>Algorithms</td>\n",
       "    </tr>\n",
       "    <tr>\n",
       "      <th>6520</th>\n",
       "      <td>Adversarial training for free!</td>\n",
       "      <td>Adversarial training, in which a network is tr...</td>\n",
       "      <td>http://papers.nips.cc/paper/by-source-2019-1853</td>\n",
       "      <td>2019</td>\n",
       "      <td>Adversarial Learning</td>\n",
       "      <td>Algorithms -- Adversarial Learning</td>\n",
       "      <td>Algorithms</td>\n",
       "    </tr>\n",
       "  </tbody>\n",
       "</table>\n",
       "</div>"
      ],
      "text/plain": [
       "                                                  title  \\\n",
       "6516  A Game Theoretic Approach to Class-wise Select...   \n",
       "6517  A Little Is Enough: Circumventing Defenses For...   \n",
       "6518  A New Defense Against Adversarial Images: Turn...   \n",
       "6519  Tight Certificates of Adversarial Robustness f...   \n",
       "6520                     Adversarial training for free!   \n",
       "\n",
       "                                               abstract  \\\n",
       "6516  Selection of input features such as relevant p...   \n",
       "6517  Distributed learning is central for large-scal...   \n",
       "6518  Natural images are virtually surrounded by low...   \n",
       "6519  Strong theoretical guarantees of robustness ca...   \n",
       "6520  Adversarial training, in which a network is tr...   \n",
       "\n",
       "                                             pdf_link  year  \\\n",
       "6516  http://papers.nips.cc/paper/by-source-2019-5315  2019   \n",
       "6517  http://papers.nips.cc/paper/by-source-2019-4657  2019   \n",
       "6518   http://papers.nips.cc/paper/by-source-2019-926  2019   \n",
       "6519  http://papers.nips.cc/paper/by-source-2019-2720  2019   \n",
       "6520  http://papers.nips.cc/paper/by-source-2019-1853  2019   \n",
       "\n",
       "                     track                      track_original  main_track  \n",
       "6516  Adversarial Learning  Algorithms -- Adversarial Learning  Algorithms  \n",
       "6517  Adversarial Learning  Algorithms -- Adversarial Learning  Algorithms  \n",
       "6518  Adversarial Learning  Algorithms -- Adversarial Learning  Algorithms  \n",
       "6519  Adversarial Learning  Algorithms -- Adversarial Learning  Algorithms  \n",
       "6520  Adversarial Learning  Algorithms -- Adversarial Learning  Algorithms  "
      ]
     },
     "execution_count": 25,
     "metadata": {},
     "output_type": "execute_result"
    }
   ],
   "source": [
    "nips19.head()"
   ]
  },
  {
   "cell_type": "code",
   "execution_count": 27,
   "metadata": {},
   "outputs": [
    {
     "data": {
      "text/plain": [
       "main_track\n",
       "Algorithms                                         465\n",
       "Applications                                       343\n",
       "Data, Challenges, Implementations, and Software     11\n",
       "Deep Learning                                      359\n",
       "Neuroscience and Cognitive Science                  42\n",
       "Optimization                                       122\n",
       "Probabilistic Methods                              115\n",
       "Reinforcement Learning and Planning                185\n",
       "Theory                                             179\n",
       "dtype: int64"
      ]
     },
     "execution_count": 27,
     "metadata": {},
     "output_type": "execute_result"
    }
   ],
   "source": [
    "nips19.groupby(\"main_track\").size()"
   ]
  },
  {
   "cell_type": "code",
   "execution_count": 28,
   "metadata": {},
   "outputs": [],
   "source": [
    "nips19.to_csv(\"../data/nips_with_track_cleaned.csv\", index= False)"
   ]
  },
  {
   "cell_type": "code",
   "execution_count": 32,
   "metadata": {},
   "outputs": [],
   "source": [
    "#save the key\n",
    "\n",
    "document = nips19[['track', 'track_original',  'main_track', 'year']]\n",
    "\n",
    "document = document.drop_duplicates()\n",
    "\n",
    "document.to_csv(\"../data/nips_yearwise_trackinfo.csv\", index = False)"
   ]
  },
  {
   "cell_type": "code",
   "execution_count": null,
   "metadata": {},
   "outputs": [],
   "source": []
  }
 ],
 "metadata": {
  "kernelspec": {
   "display_name": "Python 3",
   "language": "python",
   "name": "python3"
  },
  "language_info": {
   "codemirror_mode": {
    "name": "ipython",
    "version": 3
   },
   "file_extension": ".py",
   "mimetype": "text/x-python",
   "name": "python",
   "nbconvert_exporter": "python",
   "pygments_lexer": "ipython3",
   "version": "3.7.6"
  },
  "toc": {
   "base_numbering": 1,
   "nav_menu": {},
   "number_sections": true,
   "sideBar": true,
   "skip_h1_title": false,
   "title_cell": "Table of Contents",
   "title_sidebar": "Contents",
   "toc_cell": false,
   "toc_position": {},
   "toc_section_display": true,
   "toc_window_display": false
  },
  "varInspector": {
   "cols": {
    "lenName": 16,
    "lenType": 16,
    "lenVar": 40
   },
   "kernels_config": {
    "python": {
     "delete_cmd_postfix": "",
     "delete_cmd_prefix": "del ",
     "library": "var_list.py",
     "varRefreshCmd": "print(var_dic_list())"
    },
    "r": {
     "delete_cmd_postfix": ") ",
     "delete_cmd_prefix": "rm(",
     "library": "var_list.r",
     "varRefreshCmd": "cat(var_dic_list()) "
    }
   },
   "types_to_exclude": [
    "module",
    "function",
    "builtin_function_or_method",
    "instance",
    "_Feature"
   ],
   "window_display": false
  }
 },
 "nbformat": 4,
 "nbformat_minor": 2
}
