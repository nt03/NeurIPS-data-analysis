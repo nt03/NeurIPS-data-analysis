{
 "cells": [
  {
   "cell_type": "markdown",
   "metadata": {},
   "source": [
    "### This notebook wrangles the 'track' column for NIPS-2016 data to match it to NIPS-2019 tracks"
   ]
  },
  {
   "cell_type": "markdown",
   "metadata": {},
   "source": [
    "The tracks from 2019 'track' column have been aggregated into 9 'main_tracks'. \n",
    "This notebooks attempts to correlate the tracks from 2016 to 2019 to converge the two.   \n",
    "- I will read in the track labels from 2019 data\n",
    "- we will split the track column by \" -- \" delimiter to extract track information for 2016\n",
    "- we will then compare the two by grouping data\n",
    "- we will reconcile tracks with minor labeling differences across 2016 and 2019 \n",
    "- the labels which can't be reconciled will be grouped under a 'Not Found/NF' main_track label for now"
   ]
  },
  {
   "cell_type": "code",
   "execution_count": 2,
   "metadata": {},
   "outputs": [],
   "source": [
    "import pandas as pd\n",
    "import re"
   ]
  },
  {
   "cell_type": "code",
   "execution_count": 3,
   "metadata": {},
   "outputs": [],
   "source": [
    "#read in NIPS data\n",
    "nips = pd.read_csv(\"../data/nips.csv\")\n",
    "\n",
    "#read in 2019 data with tracks information\n",
    "nips19 = pd.read_csv(\"../data/nips_with_track_cleaned.csv\")\n",
    "nips19 = nips19[nips19['year'] == 2019]"
   ]
  },
  {
   "cell_type": "code",
   "execution_count": 4,
   "metadata": {},
   "outputs": [],
   "source": [
    "#create a dict to map tracks to main_tracks(canonical label)\n",
    "\n",
    "tracks19 = nips19.track_original.unique().tolist()\n",
    "\n",
    "mt19 = nips19.main_track.unique().tolist()\n",
    "\n",
    "doc = {}\n",
    "\n",
    "for t in tracks19:   \n",
    "    t = t.split(\" -- \")\n",
    "    doc[t[1]] = t[0]\n",
    "    \n",
    "for t in mt19:\n",
    "    doc[t] = t"
   ]
  },
  {
   "cell_type": "code",
   "execution_count": 5,
   "metadata": {},
   "outputs": [],
   "source": [
    "#subset 2016 data\n",
    "\n",
    "nips16 = nips[nips['year'] == 2016].copy()"
   ]
  },
  {
   "cell_type": "code",
   "execution_count": 6,
   "metadata": {},
   "outputs": [],
   "source": [
    "#create a column to record the original track info\n",
    "\n",
    "nips16['track_original'] = nips16['track']"
   ]
  },
  {
   "cell_type": "code",
   "execution_count": 7,
   "metadata": {},
   "outputs": [],
   "source": [
    "#edit track values to conform to nips2019 tracks\n",
    "\n",
    "nips16.loc[nips16['track'] == 'Component Analysis (ICA,PCA,CCA, FLDA)', 'track'] =  \"Components Analysis (e.g., CCA, ICA, LDA, PCA)\"\n",
    "\n",
    "nips16.loc[nips16['track'] == 'Ensemble Methods and Boosting', 'track'] =  \"Boosting and Ensemble Methods\"\n",
    "\n",
    "nips16.loc[nips16['track'] == 'Game Theory and Econometrics', 'track'] =  \"Game Theory and Computational Economics\"\n",
    "\n",
    "nips16.loc[nips16['track'] == 'Graph-based Learning', 'track'] =  \"Graphical Models\"\n",
    "\n",
    "nips16.loc[nips16['track'] == 'Large Scale Learning and Big Data', 'track'] =  \"Large Scale Learning\"\n",
    "\n",
    "nips16.loc[nips16['track'] == 'Matrix Factorization', 'track'] =  \"Matrix and Tensor Factorization\"\n",
    "\n",
    "nips16.loc[nips16['track'] == 'Multi-task and Transfer Learning', 'track'] =  \"Multitask and Transfer Learning\"\n",
    "\n",
    "nips16.loc[nips16['track'] == 'Nonlinear Dimension Reduction and Manifold Learning', 'track'] =  \"Nonlinear Dimensionality Reduction and Manifold Learning\"\n",
    "\n",
    "nips16.loc[nips16['track'] == 'Regularization and Large Margin Methods', 'track'] =  \"Regularization\"\n",
    "\n",
    "nips16.loc[nips16['track'] == 'Reinforcement Learning Algorithms', 'track'] =  \"Reinforcement Learning and Planning\""
   ]
  },
  {
   "cell_type": "code",
   "execution_count": 8,
   "metadata": {},
   "outputs": [],
   "source": [
    "#pass the track column through the dict to create the main_track column\n",
    "# NF = 'not found' for tracks which couldn't be matched to 2019 track data\n",
    "\n",
    "tracks16 =  nips16.track.tolist()\n",
    "\n",
    "mt16 = []\n",
    "\n",
    "for t in tracks16:\n",
    "    \n",
    "    if t in doc:\n",
    "        mt16.append(doc[t])\n",
    "    else:\n",
    "        mt16.append('NF')\n",
    "        \n",
    "nips16['main_track'] = mt16"
   ]
  },
  {
   "cell_type": "code",
   "execution_count": 9,
   "metadata": {},
   "outputs": [
    {
     "data": {
      "text/plain": [
       "main_track\n",
       "Algorithms                             418\n",
       "Applications                            53\n",
       "NF                                     856\n",
       "Optimization                            95\n",
       "Probabilistic Methods                  130\n",
       "Reinforcement Learning and Planning     21\n",
       "Theory                                 151\n",
       "dtype: int64"
      ]
     },
     "execution_count": 9,
     "metadata": {},
     "output_type": "execute_result"
    }
   ],
   "source": [
    "nips16.groupby('main_track').size()"
   ]
  },
  {
   "cell_type": "code",
   "execution_count": 10,
   "metadata": {},
   "outputs": [],
   "source": [
    "#create a list of all tracks which had main_track = NF to parse them indiviually\n",
    "\n",
    "nftracks = nips16[nips16['main_track'] == 'NF'].track.unique().tolist()"
   ]
  },
  {
   "cell_type": "code",
   "execution_count": 11,
   "metadata": {},
   "outputs": [],
   "source": [
    "#create a new dict to transform tracks with main_track info in parantheses \n",
    "new = {}\n",
    "\n",
    "for t in nftracks:\n",
    "    if '('  in t:\n",
    "        mt = re.search(\"\\((.*)\\)\", t).group(1)\n",
    "        temp = '('+ mt +')'\n",
    "        rt = t.replace(temp, \"\").strip()\n",
    "        new[rt] = mt\n",
    "        nips16.loc[nips16['track'] == t, 'track'] = rt        "
   ]
  },
  {
   "cell_type": "code",
   "execution_count": 12,
   "metadata": {},
   "outputs": [
    {
     "data": {
      "text/plain": [
       "{'Bioinformatics and Systems Biology': 'Application',\n",
       " 'Collaborative Filtering and Recommender Systems': 'Application',\n",
       " 'Computer Vision': 'Application',\n",
       " 'Information Retrieval': 'Application',\n",
       " 'Natural Language and Text Processing': 'Application',\n",
       " 'Object and Pattern Recognition': 'Application',\n",
       " 'Privacy, Anonymity, and Security': 'Application',\n",
       " 'Signal and Speech Processing': 'Application',\n",
       " 'Social Networks': 'Application',\n",
       " 'Web Applications and Internet Data': 'Application',\n",
       " 'Language': 'Cognitive/Neuroscience',\n",
       " 'Neural Coding': 'Cognitive/Neuroscience',\n",
       " 'Perception': 'Cognitive/Neuroscience',\n",
       " 'Reinforcement Learning': 'Cognitive/Neuroscience',\n",
       " 'Theoretical Neuroscience': 'Cognitive/Neuroscience',\n",
       " 'Applications': 'Other',\n",
       " 'Bayesian Inference': 'Other',\n",
       " 'Classification': 'Other',\n",
       " 'Cognitive Science': 'Other',\n",
       " 'Machine Learning Topics': 'Other',\n",
       " 'Neuroscience': 'Other',\n",
       " 'Optimization': 'Other',\n",
       " 'Probabilistic Models and Methods': 'Other',\n",
       " 'Regression': 'Other',\n",
       " 'Robotics and Control': 'Other',\n",
       " 'Statistics': 'Other',\n",
       " 'Unsupervised Learning Methods': 'Other'}"
      ]
     },
     "execution_count": 12,
     "metadata": {},
     "output_type": "execute_result"
    }
   ],
   "source": [
    "new"
   ]
  },
  {
   "cell_type": "code",
   "execution_count": 13,
   "metadata": {},
   "outputs": [],
   "source": [
    "#manually update the dict for tracks where main_track = \"Other\" (more detail in notes below)\n",
    "\n",
    "new['Algorithms']='Algorithms'\n",
    "\n",
    "new['Applications'] = 'Applications'\n",
    "\n",
    "new['Neuroscience'] = 'Neuroscience and Cognitive Science'\n",
    "\n",
    "new['Cognitive Science'] = 'Neuroscience and Cognitive Science'\n",
    "\n",
    "new['Classification'] = 'Algorithms'\n",
    "\n",
    "new['Optimization'] = 'Optimization'\n",
    "\n",
    "new['Probabilistic Models and Methods'] = 'Probabilistic Methods'\n",
    "\n",
    "new['Robotics and Control'] =  'Applications'\n",
    "\n",
    "new['Unsupervised Learning Methods']= 'Algorithms'\n",
    "    \n",
    "new['Regression']= 'Algorithms'\n",
    "    \n",
    "new['Bayesian Inference'] = 'NF'\n",
    "    \n",
    "new['Machine Learning Topics']= 'NF'\n",
    "    \n",
    "new['Statistics'] = 'NF'"
   ]
  },
  {
   "cell_type": "code",
   "execution_count": 14,
   "metadata": {},
   "outputs": [],
   "source": [
    "#merge the two dicts\n",
    "\n",
    "mdoc = {**doc, **new}"
   ]
  },
  {
   "cell_type": "code",
   "execution_count": 15,
   "metadata": {},
   "outputs": [],
   "source": [
    "#rerun the rows through new master dict of track:main_track \n",
    "\n",
    "tracks16 =  nips16.track.tolist()\n",
    "mt162 = []\n",
    "\n",
    "for t in tracks16:\n",
    "    \n",
    "    if t in mdoc:\n",
    "        mt162.append(mdoc[t])\n",
    "    else:\n",
    "        mt162.append('NF')\n",
    "        \n",
    "nips16['main_track'] = mt162"
   ]
  },
  {
   "cell_type": "code",
   "execution_count": 16,
   "metadata": {},
   "outputs": [
    {
     "data": {
      "text/plain": [
       "['Causality',\n",
       " 'Deep Learning or Neural Networks',\n",
       " 'Bayesian Inference',\n",
       " 'Machine Learning Topics',\n",
       " 'Statistics',\n",
       " 'Sparsity and Feature Selection']"
      ]
     },
     "execution_count": 16,
     "metadata": {},
     "output_type": "execute_result"
    }
   ],
   "source": [
    "#adding notes for \"not found or NF\" values\n",
    "\n",
    "nips16[nips16['main_track'] == 'NF'].track.unique().tolist()"
   ]
  },
  {
   "cell_type": "markdown",
   "metadata": {},
   "source": [
    "NF notes: \n",
    "\n",
    "    1. 'Causality' ---> similar to 'causal inference' in tracks_2019?\n",
    "    2. 'Deep Learning or Neural Networks' --> matches: 'Deep Learning' in main_tracks_2019 and 'Memory-Augmented Neural Networks' for NN in tracks_2019\n",
    "    3. 'Bayesian Inference' --> 'Bayesian Nonparametrics' in tracks_2019\n",
    "    10. 'Machine Learning Topics' --> no match\n",
    "    11. 'Statistics' --> no match\n",
    "\n",
    "    14. 'Sparsity and Feature Selection' --> 2 options: 'Sparse Coding and Dimensionality Expansion' and 'Sparsity and Compressed Sensing'\n"
   ]
  },
  {
   "cell_type": "code",
   "execution_count": 17,
   "metadata": {},
   "outputs": [
    {
     "data": {
      "text/html": [
       "<div>\n",
       "<style scoped>\n",
       "    .dataframe tbody tr th:only-of-type {\n",
       "        vertical-align: middle;\n",
       "    }\n",
       "\n",
       "    .dataframe tbody tr th {\n",
       "        vertical-align: top;\n",
       "    }\n",
       "\n",
       "    .dataframe thead th {\n",
       "        text-align: right;\n",
       "    }\n",
       "</style>\n",
       "<table border=\"1\" class=\"dataframe\">\n",
       "  <thead>\n",
       "    <tr style=\"text-align: right;\">\n",
       "      <th></th>\n",
       "      <th>title</th>\n",
       "      <th>abstract</th>\n",
       "      <th>pdf_link</th>\n",
       "      <th>year</th>\n",
       "      <th>track</th>\n",
       "      <th>track_original</th>\n",
       "      <th>main_track</th>\n",
       "    </tr>\n",
       "  </thead>\n",
       "  <tbody>\n",
       "    <tr>\n",
       "      <th>0</th>\n",
       "      <td>Adaptive optimal training of animal behavior</td>\n",
       "      <td>Neuroscience experiments often require trainin...</td>\n",
       "      <td>http://papers.nips.cc/paper/6344-adaptive-opti...</td>\n",
       "      <td>2016</td>\n",
       "      <td>Active Learning</td>\n",
       "      <td>Active Learning</td>\n",
       "      <td>Algorithms</td>\n",
       "    </tr>\n",
       "    <tr>\n",
       "      <th>1</th>\n",
       "      <td>Active Learning with Oracle Epiphany</td>\n",
       "      <td>We present a theoretical analysis of active le...</td>\n",
       "      <td>http://papers.nips.cc/paper/6155-active-learni...</td>\n",
       "      <td>2016</td>\n",
       "      <td>Active Learning</td>\n",
       "      <td>Active Learning</td>\n",
       "      <td>Algorithms</td>\n",
       "    </tr>\n",
       "    <tr>\n",
       "      <th>2</th>\n",
       "      <td>Cooperative Inverse Reinforcement Learning</td>\n",
       "      <td>For an autonomous system to be helpful to huma...</td>\n",
       "      <td>http://papers.nips.cc/paper/6420-cooperative-i...</td>\n",
       "      <td>2016</td>\n",
       "      <td>Active Learning</td>\n",
       "      <td>Active Learning</td>\n",
       "      <td>Algorithms</td>\n",
       "    </tr>\n",
       "    <tr>\n",
       "      <th>3</th>\n",
       "      <td>Safe Exploration in Finite Markov Decision Pro...</td>\n",
       "      <td>In classical reinforcement learning agents acc...</td>\n",
       "      <td>http://papers.nips.cc/paper/6358-safe-explorat...</td>\n",
       "      <td>2016</td>\n",
       "      <td>Active Learning</td>\n",
       "      <td>Active Learning</td>\n",
       "      <td>Algorithms</td>\n",
       "    </tr>\n",
       "    <tr>\n",
       "      <th>4</th>\n",
       "      <td>Active Learning from Imperfect Labelers</td>\n",
       "      <td>We study active learning where the labeler can...</td>\n",
       "      <td>http://papers.nips.cc/paper/6162-active-learni...</td>\n",
       "      <td>2016</td>\n",
       "      <td>Active Learning</td>\n",
       "      <td>Active Learning</td>\n",
       "      <td>Algorithms</td>\n",
       "    </tr>\n",
       "  </tbody>\n",
       "</table>\n",
       "</div>"
      ],
      "text/plain": [
       "                                               title  \\\n",
       "0       Adaptive optimal training of animal behavior   \n",
       "1               Active Learning with Oracle Epiphany   \n",
       "2         Cooperative Inverse Reinforcement Learning   \n",
       "3  Safe Exploration in Finite Markov Decision Pro...   \n",
       "4            Active Learning from Imperfect Labelers   \n",
       "\n",
       "                                            abstract  \\\n",
       "0  Neuroscience experiments often require trainin...   \n",
       "1  We present a theoretical analysis of active le...   \n",
       "2  For an autonomous system to be helpful to huma...   \n",
       "3  In classical reinforcement learning agents acc...   \n",
       "4  We study active learning where the labeler can...   \n",
       "\n",
       "                                            pdf_link  year            track  \\\n",
       "0  http://papers.nips.cc/paper/6344-adaptive-opti...  2016  Active Learning   \n",
       "1  http://papers.nips.cc/paper/6155-active-learni...  2016  Active Learning   \n",
       "2  http://papers.nips.cc/paper/6420-cooperative-i...  2016  Active Learning   \n",
       "3  http://papers.nips.cc/paper/6358-safe-explorat...  2016  Active Learning   \n",
       "4  http://papers.nips.cc/paper/6162-active-learni...  2016  Active Learning   \n",
       "\n",
       "    track_original  main_track  \n",
       "0  Active Learning  Algorithms  \n",
       "1  Active Learning  Algorithms  \n",
       "2  Active Learning  Algorithms  \n",
       "3  Active Learning  Algorithms  \n",
       "4  Active Learning  Algorithms  "
      ]
     },
     "execution_count": 17,
     "metadata": {},
     "output_type": "execute_result"
    }
   ],
   "source": [
    "nips16.head()"
   ]
  },
  {
   "cell_type": "code",
   "execution_count": 18,
   "metadata": {},
   "outputs": [],
   "source": [
    "#there is a discrepancy in main_track = 'Application'/'Applications'\n",
    "\n",
    "nips16.loc[nips16['main_track'] == 'Application', 'main_track'] =  \"Applications\"\n",
    "\n",
    "#we notice that there is a main_track 'Cognitive/Neuroscience' equivalent to 'Neuroscience and Cognitive Science'\n",
    "#replace the same in the df\n",
    "\n",
    "nips16.loc[nips16['main_track'] == 'Cognitive/Neuroscience', 'main_track'] =  \"Neuroscience and Cognitive Science\""
   ]
  },
  {
   "cell_type": "code",
   "execution_count": 19,
   "metadata": {},
   "outputs": [
    {
     "data": {
      "text/plain": [
       "main_track\n",
       "Algorithms                             523\n",
       "Applications                           278\n",
       "NF                                     309\n",
       "Neuroscience and Cognitive Science      94\n",
       "Optimization                           156\n",
       "Probabilistic Methods                  192\n",
       "Reinforcement Learning and Planning     21\n",
       "Theory                                 151\n",
       "dtype: int64"
      ]
     },
     "execution_count": 19,
     "metadata": {},
     "output_type": "execute_result"
    }
   ],
   "source": [
    "#check data\n",
    "\n",
    "nips16.groupby(\"main_track\").size()"
   ]
  },
  {
   "cell_type": "code",
   "execution_count": 20,
   "metadata": {},
   "outputs": [
    {
     "data": {
      "text/plain": [
       "track\n",
       "Bayesian Inference                   26\n",
       "Causality                             8\n",
       "Deep Learning or Neural Networks    147\n",
       "Machine Learning Topics              29\n",
       "Sparsity and Feature Selection       52\n",
       "Statistics                           47\n",
       "dtype: int64"
      ]
     },
     "execution_count": 20,
     "metadata": {},
     "output_type": "execute_result"
    }
   ],
   "source": [
    "#review NF content\n",
    "\n",
    "nips16[nips16['main_track'] == 'NF'].groupby('track').size()"
   ]
  },
  {
   "cell_type": "code",
   "execution_count": 21,
   "metadata": {},
   "outputs": [],
   "source": [
    "nips16.to_csv(\"../data/nips_with_track_cleaned.csv\", mode='a', index= False, header= False)"
   ]
  },
  {
   "cell_type": "code",
   "execution_count": 22,
   "metadata": {},
   "outputs": [],
   "source": [
    "document = nips16[['track', 'track_original', 'main_track', 'year']]\n",
    "\n",
    "document = document.drop_duplicates()\n",
    "\n",
    "document.to_csv(\"../data/nips_yearwise_trackinfo.csv\", mode='a', index= False, header= False)"
   ]
  }
 ],
 "metadata": {
  "kernelspec": {
   "display_name": "Python 3",
   "language": "python",
   "name": "python3"
  },
  "language_info": {
   "codemirror_mode": {
    "name": "ipython",
    "version": 3
   },
   "file_extension": ".py",
   "mimetype": "text/x-python",
   "name": "python",
   "nbconvert_exporter": "python",
   "pygments_lexer": "ipython3",
   "version": "3.7.6"
  },
  "toc": {
   "base_numbering": 1,
   "nav_menu": {},
   "number_sections": true,
   "sideBar": true,
   "skip_h1_title": false,
   "title_cell": "Table of Contents",
   "title_sidebar": "Contents",
   "toc_cell": false,
   "toc_position": {},
   "toc_section_display": true,
   "toc_window_display": false
  },
  "varInspector": {
   "cols": {
    "lenName": 16,
    "lenType": 16,
    "lenVar": 40
   },
   "kernels_config": {
    "python": {
     "delete_cmd_postfix": "",
     "delete_cmd_prefix": "del ",
     "library": "var_list.py",
     "varRefreshCmd": "print(var_dic_list())"
    },
    "r": {
     "delete_cmd_postfix": ") ",
     "delete_cmd_prefix": "rm(",
     "library": "var_list.r",
     "varRefreshCmd": "cat(var_dic_list()) "
    }
   },
   "types_to_exclude": [
    "module",
    "function",
    "builtin_function_or_method",
    "instance",
    "_Feature"
   ],
   "window_display": false
  }
 },
 "nbformat": 4,
 "nbformat_minor": 2
}
