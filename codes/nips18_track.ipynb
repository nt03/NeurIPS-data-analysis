{
 "cells": [
  {
   "cell_type": "markdown",
   "metadata": {},
   "source": [
    "### This notebook wrangles the 'track' column for NIPS-2018 data to match it to NIPS-2019 tracks"
   ]
  },
  {
   "cell_type": "markdown",
   "metadata": {},
   "source": [
    "The tracks from 2019 'track' column have been aggregated into 9 'main_tracks'. \n",
    "This notebooks attempts to correlate the tracks from 2018 to 2019 to converge the two.   \n",
    "- I will read in the track labels from 2019 data\n",
    "- we will split the track column by \" -- \" delimiter to extract track information for 2018\n",
    "- we will then compare the two by grouping data\n",
    "- we will reconcile tracks with minor labeling differences across 2018 and 2019 \n",
    "- the labels which can't be reconciled will be grouped under a 'Not Found/NF' main_track label for now"
   ]
  },
  {
   "cell_type": "code",
   "execution_count": 1,
   "metadata": {},
   "outputs": [],
   "source": [
    "import pandas as pd\n",
    "import re"
   ]
  },
  {
   "cell_type": "code",
   "execution_count": 2,
   "metadata": {},
   "outputs": [],
   "source": [
    "#read in NIPS data\n",
    "nips = pd.read_csv(\"../data/nips.csv\")\n",
    "\n",
    "#read in 2019 data with tracks information\n",
    "nips19 = pd.read_csv(\"../data/nips_with_track_cleaned.csv\")\n",
    "nips19 = nips19[nips19['year'] == 2019]"
   ]
  },
  {
   "cell_type": "code",
   "execution_count": 3,
   "metadata": {},
   "outputs": [
    {
     "data": {
      "text/html": [
       "<div>\n",
       "<style scoped>\n",
       "    .dataframe tbody tr th:only-of-type {\n",
       "        vertical-align: middle;\n",
       "    }\n",
       "\n",
       "    .dataframe tbody tr th {\n",
       "        vertical-align: top;\n",
       "    }\n",
       "\n",
       "    .dataframe thead th {\n",
       "        text-align: right;\n",
       "    }\n",
       "</style>\n",
       "<table border=\"1\" class=\"dataframe\">\n",
       "  <thead>\n",
       "    <tr style=\"text-align: right;\">\n",
       "      <th></th>\n",
       "      <th>title</th>\n",
       "      <th>abstract</th>\n",
       "      <th>pdf_link</th>\n",
       "      <th>year</th>\n",
       "      <th>track</th>\n",
       "      <th>track_original</th>\n",
       "      <th>main_track</th>\n",
       "    </tr>\n",
       "  </thead>\n",
       "  <tbody>\n",
       "    <tr>\n",
       "      <th>0</th>\n",
       "      <td>A Game Theoretic Approach to Class-wise Select...</td>\n",
       "      <td>Selection of input features such as relevant p...</td>\n",
       "      <td>http://papers.nips.cc/paper/by-source-2019-5315</td>\n",
       "      <td>2019</td>\n",
       "      <td>Adversarial Learning</td>\n",
       "      <td>Algorithms -- Adversarial Learning</td>\n",
       "      <td>Algorithms</td>\n",
       "    </tr>\n",
       "    <tr>\n",
       "      <th>1</th>\n",
       "      <td>A Little Is Enough: Circumventing Defenses For...</td>\n",
       "      <td>Distributed learning is central for large-scal...</td>\n",
       "      <td>http://papers.nips.cc/paper/by-source-2019-4657</td>\n",
       "      <td>2019</td>\n",
       "      <td>Adversarial Learning</td>\n",
       "      <td>Algorithms -- Adversarial Learning</td>\n",
       "      <td>Algorithms</td>\n",
       "    </tr>\n",
       "    <tr>\n",
       "      <th>2</th>\n",
       "      <td>A New Defense Against Adversarial Images: Turn...</td>\n",
       "      <td>Natural images are virtually surrounded by low...</td>\n",
       "      <td>http://papers.nips.cc/paper/by-source-2019-926</td>\n",
       "      <td>2019</td>\n",
       "      <td>Adversarial Learning</td>\n",
       "      <td>Algorithms -- Adversarial Learning</td>\n",
       "      <td>Algorithms</td>\n",
       "    </tr>\n",
       "    <tr>\n",
       "      <th>3</th>\n",
       "      <td>Tight Certificates of Adversarial Robustness f...</td>\n",
       "      <td>Strong theoretical guarantees of robustness ca...</td>\n",
       "      <td>http://papers.nips.cc/paper/by-source-2019-2720</td>\n",
       "      <td>2019</td>\n",
       "      <td>Adversarial Learning</td>\n",
       "      <td>Algorithms -- Adversarial Learning</td>\n",
       "      <td>Algorithms</td>\n",
       "    </tr>\n",
       "    <tr>\n",
       "      <th>4</th>\n",
       "      <td>Adversarial training for free!</td>\n",
       "      <td>Adversarial training, in which a network is tr...</td>\n",
       "      <td>http://papers.nips.cc/paper/by-source-2019-1853</td>\n",
       "      <td>2019</td>\n",
       "      <td>Adversarial Learning</td>\n",
       "      <td>Algorithms -- Adversarial Learning</td>\n",
       "      <td>Algorithms</td>\n",
       "    </tr>\n",
       "  </tbody>\n",
       "</table>\n",
       "</div>"
      ],
      "text/plain": [
       "                                               title  \\\n",
       "0  A Game Theoretic Approach to Class-wise Select...   \n",
       "1  A Little Is Enough: Circumventing Defenses For...   \n",
       "2  A New Defense Against Adversarial Images: Turn...   \n",
       "3  Tight Certificates of Adversarial Robustness f...   \n",
       "4                     Adversarial training for free!   \n",
       "\n",
       "                                            abstract  \\\n",
       "0  Selection of input features such as relevant p...   \n",
       "1  Distributed learning is central for large-scal...   \n",
       "2  Natural images are virtually surrounded by low...   \n",
       "3  Strong theoretical guarantees of robustness ca...   \n",
       "4  Adversarial training, in which a network is tr...   \n",
       "\n",
       "                                          pdf_link  year  \\\n",
       "0  http://papers.nips.cc/paper/by-source-2019-5315  2019   \n",
       "1  http://papers.nips.cc/paper/by-source-2019-4657  2019   \n",
       "2   http://papers.nips.cc/paper/by-source-2019-926  2019   \n",
       "3  http://papers.nips.cc/paper/by-source-2019-2720  2019   \n",
       "4  http://papers.nips.cc/paper/by-source-2019-1853  2019   \n",
       "\n",
       "                  track                      track_original  main_track  \n",
       "0  Adversarial Learning  Algorithms -- Adversarial Learning  Algorithms  \n",
       "1  Adversarial Learning  Algorithms -- Adversarial Learning  Algorithms  \n",
       "2  Adversarial Learning  Algorithms -- Adversarial Learning  Algorithms  \n",
       "3  Adversarial Learning  Algorithms -- Adversarial Learning  Algorithms  \n",
       "4  Adversarial Learning  Algorithms -- Adversarial Learning  Algorithms  "
      ]
     },
     "execution_count": 3,
     "metadata": {},
     "output_type": "execute_result"
    }
   ],
   "source": [
    "nips19.head()"
   ]
  },
  {
   "cell_type": "code",
   "execution_count": 4,
   "metadata": {},
   "outputs": [],
   "source": [
    "#create a dict to map track to main_track(canonical label)\n",
    "\n",
    "tracks19 = nips19.track_original.unique().tolist()\n",
    "\n",
    "mt19 = nips19.main_track.unique().tolist()\n",
    "\n",
    "doc = {}\n",
    "\n",
    "for t in tracks19:\n",
    "    \n",
    "    t = t.split(\" -- \")\n",
    "    doc[t[1]] = t[0]\n",
    "    \n",
    "for t in mt19:\n",
    "    doc[t] = t"
   ]
  },
  {
   "cell_type": "code",
   "execution_count": 5,
   "metadata": {},
   "outputs": [],
   "source": [
    "#subset nips2018 data\n",
    "\n",
    "nips18 = nips[nips['year'] == 2018].copy()"
   ]
  },
  {
   "cell_type": "code",
   "execution_count": 6,
   "metadata": {},
   "outputs": [
    {
     "data": {
      "text/plain": [
       "(2846, 5)"
      ]
     },
     "execution_count": 6,
     "metadata": {},
     "output_type": "execute_result"
    }
   ],
   "source": [
    "nips18.shape"
   ]
  },
  {
   "cell_type": "code",
   "execution_count": 7,
   "metadata": {},
   "outputs": [],
   "source": [
    "#create a column to record the original track info\n",
    "\n",
    "nips18['track_original'] = nips18['track']"
   ]
  },
  {
   "cell_type": "code",
   "execution_count": 8,
   "metadata": {},
   "outputs": [],
   "source": [
    "#reconcile rows with minor track variations\n",
    "\n",
    "nips18.loc[nips18['track'] == 'Data, Competitions, Implementations, and Software', 'track'] =  \"Data, Challenges, Implementations, and Software\"\n",
    "nips18.loc[nips18['track'] == 'Few-Shot Learning Approaches', 'track'] =  'Few-Shot Learning' "
   ]
  },
  {
   "cell_type": "code",
   "execution_count": 9,
   "metadata": {},
   "outputs": [],
   "source": [
    "#pass the track column through the dict to create the main_track column\n",
    "\n",
    "tracks18 =  nips18.track.tolist()\n",
    "\n",
    "mt18 = []\n",
    "\n",
    "for t in tracks18:    \n",
    "    if t in doc:\n",
    "        mt18.append(doc[t])\n",
    "    else:\n",
    "        mt18.append('NF')\n",
    "        \n",
    "nips18['main_track'] = mt18"
   ]
  },
  {
   "cell_type": "code",
   "execution_count": 10,
   "metadata": {},
   "outputs": [
    {
     "data": {
      "text/plain": [
       "main_track\n",
       "Algorithms                                         685\n",
       "Applications                                       473\n",
       "Data, Challenges, Implementations, and Software     17\n",
       "Deep Learning                                      572\n",
       "NF                                                  59\n",
       "Neuroscience and Cognitive Science                  91\n",
       "Optimization                                       205\n",
       "Probabilistic Methods                              247\n",
       "Reinforcement Learning and Planning                228\n",
       "Theory                                             269\n",
       "dtype: int64"
      ]
     },
     "execution_count": 10,
     "metadata": {},
     "output_type": "execute_result"
    }
   ],
   "source": [
    "nips18.groupby(\"main_track\").size()"
   ]
  },
  {
   "cell_type": "code",
   "execution_count": 11,
   "metadata": {},
   "outputs": [
    {
     "data": {
      "text/plain": [
       "['Bayesian Theory',\n",
       " 'Brain Segmentation',\n",
       " 'Competitive Analysis',\n",
       " 'Large Margin Methods',\n",
       " 'Motor Control',\n",
       " 'Music Modeling and Analysis',\n",
       " 'Plasticity and Adaptation',\n",
       " 'Program Induction',\n",
       " 'Source Separation',\n",
       " 'Speech Recognition',\n",
       " 'Spike Train Generation',\n",
       " 'Systems Biology',\n",
       " 'Text Analysis',\n",
       " 'Video Segmentation',\n",
       " 'Visual Features']"
      ]
     },
     "execution_count": 11,
     "metadata": {},
     "output_type": "execute_result"
    }
   ],
   "source": [
    "#list of tracks that fall under 'Not Found/NF' main_track column with individual notes\n",
    "\n",
    "nips18[nips18['main_track'] == 'NF'].track.unique().tolist()"
   ]
  },
  {
   "cell_type": "markdown",
   "metadata": {},
   "source": [
    "Notes:\n",
    "    \n",
    "1. 'Bayesian Theory': 'Bayesian Nonparametrics' in tracks_2019? (same track in '17)\n",
    "2. 'Brain Segmentation' --> Brain Imaging', Brain Mapping', Brain--Computer Interfaces and Neural Prostheses' in tracks_2019?\n",
    "3. 'Competitive Analysis' --> no similar track (same track in '17)\n",
    "\n",
    "\n",
    "6. 'Large Margin Methods' --> Large Scale Learning' and Large Deviations and Asymptotic Analysis' in tracks_2019?\n",
    "7. 'Motor Control' --> no similar track (same track in '17)\n",
    "8. 'Music Modeling and Analysis' --> no similar track (same track in '17)\n",
    "9. 'Plasticity and Adaptation' --> no similar track\n",
    "10. 'Program Induction' --> Program Understanding and Generation' in tracks_19? (same track in '17)\n",
    "11. 'Source Separation' --> no similar track (same track in '17)\n",
    "12. 'Speech Recognition' --> Audio and Speech Processing' in tracks_2019? (same track in '17)\n",
    "13. 'Spike Train Generation' -->no similar track (same track in '17)\n",
    "14. 'Systems Biology' --> no similar track (same track in '17)\n",
    "15. 'Text Analysis' --> Natural Language Processing' in tracks_2019? (same track in '17)\n",
    "16. 'Video Segmentation' --> Image Segmentation' in track_19?? \n",
    "17. 'Visual Features' --> many options: Tracking and Motion in Video', Visualization or Exposition Techniques for Deep Networks', Visual Scene Analysis and Interpretation', Visual Perception' in tracks_2019 (same track in '17)"
   ]
  },
  {
   "cell_type": "code",
   "execution_count": 12,
   "metadata": {},
   "outputs": [],
   "source": [
    "nips18.to_csv(\"../data/nips_with_track_cleaned.csv\", mode='a', index= False, header= False)"
   ]
  },
  {
   "cell_type": "code",
   "execution_count": 13,
   "metadata": {},
   "outputs": [],
   "source": [
    "document = nips18[['track', 'track_original', 'main_track', 'year']]\n",
    "\n",
    "document = document.drop_duplicates()\n",
    "\n",
    "document.to_csv(\"../data/nips_yearwise_trackinfo.csv\", mode='a', index= False, header= False)"
   ]
  },
  {
   "cell_type": "code",
   "execution_count": 14,
   "metadata": {},
   "outputs": [
    {
     "data": {
      "text/plain": [
       "(2846, 7)"
      ]
     },
     "execution_count": 14,
     "metadata": {},
     "output_type": "execute_result"
    }
   ],
   "source": [
    "nips18.shape"
   ]
  },
  {
   "cell_type": "code",
   "execution_count": null,
   "metadata": {},
   "outputs": [],
   "source": []
  }
 ],
 "metadata": {
  "kernelspec": {
   "display_name": "Python 3",
   "language": "python",
   "name": "python3"
  },
  "language_info": {
   "codemirror_mode": {
    "name": "ipython",
    "version": 3
   },
   "file_extension": ".py",
   "mimetype": "text/x-python",
   "name": "python",
   "nbconvert_exporter": "python",
   "pygments_lexer": "ipython3",
   "version": "3.7.6"
  },
  "toc": {
   "base_numbering": 1,
   "nav_menu": {},
   "number_sections": true,
   "sideBar": true,
   "skip_h1_title": false,
   "title_cell": "Table of Contents",
   "title_sidebar": "Contents",
   "toc_cell": false,
   "toc_position": {},
   "toc_section_display": true,
   "toc_window_display": false
  },
  "varInspector": {
   "cols": {
    "lenName": 16,
    "lenType": 16,
    "lenVar": 40
   },
   "kernels_config": {
    "python": {
     "delete_cmd_postfix": "",
     "delete_cmd_prefix": "del ",
     "library": "var_list.py",
     "varRefreshCmd": "print(var_dic_list())"
    },
    "r": {
     "delete_cmd_postfix": ") ",
     "delete_cmd_prefix": "rm(",
     "library": "var_list.r",
     "varRefreshCmd": "cat(var_dic_list()) "
    }
   },
   "types_to_exclude": [
    "module",
    "function",
    "builtin_function_or_method",
    "instance",
    "_Feature"
   ],
   "window_display": false
  }
 },
 "nbformat": 4,
 "nbformat_minor": 2
}
