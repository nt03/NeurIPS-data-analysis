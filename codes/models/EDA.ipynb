{
 "cells": [
  {
   "cell_type": "code",
   "execution_count": 38,
   "metadata": {},
   "outputs": [],
   "source": [
    "import pandas as pd\n",
    "import re"
   ]
  },
  {
   "cell_type": "code",
   "execution_count": 54,
   "metadata": {},
   "outputs": [
    {
     "data": {
      "text/html": [
       "<div>\n",
       "<style scoped>\n",
       "    .dataframe tbody tr th:only-of-type {\n",
       "        vertical-align: middle;\n",
       "    }\n",
       "\n",
       "    .dataframe tbody tr th {\n",
       "        vertical-align: top;\n",
       "    }\n",
       "\n",
       "    .dataframe thead th {\n",
       "        text-align: right;\n",
       "    }\n",
       "</style>\n",
       "<table border=\"1\" class=\"dataframe\">\n",
       "  <thead>\n",
       "    <tr style=\"text-align: right;\">\n",
       "      <th></th>\n",
       "      <th>title</th>\n",
       "      <th>abstract</th>\n",
       "      <th>pdf_link</th>\n",
       "      <th>year</th>\n",
       "      <th>track</th>\n",
       "      <th>track_original</th>\n",
       "      <th>main_track</th>\n",
       "    </tr>\n",
       "  </thead>\n",
       "  <tbody>\n",
       "    <tr>\n",
       "      <th>0</th>\n",
       "      <td>A Game Theoretic Approach to Class-wise Select...</td>\n",
       "      <td>Selection of input features such as relevant p...</td>\n",
       "      <td>http://papers.nips.cc/paper/by-source-2019-5315</td>\n",
       "      <td>2019</td>\n",
       "      <td>Adversarial Learning</td>\n",
       "      <td>Algorithms -- Adversarial Learning</td>\n",
       "      <td>Algorithms</td>\n",
       "    </tr>\n",
       "    <tr>\n",
       "      <th>1</th>\n",
       "      <td>A Little Is Enough: Circumventing Defenses For...</td>\n",
       "      <td>Distributed learning is central for large-scal...</td>\n",
       "      <td>http://papers.nips.cc/paper/by-source-2019-4657</td>\n",
       "      <td>2019</td>\n",
       "      <td>Adversarial Learning</td>\n",
       "      <td>Algorithms -- Adversarial Learning</td>\n",
       "      <td>Algorithms</td>\n",
       "    </tr>\n",
       "    <tr>\n",
       "      <th>2</th>\n",
       "      <td>A New Defense Against Adversarial Images: Turn...</td>\n",
       "      <td>Natural images are virtually surrounded by low...</td>\n",
       "      <td>http://papers.nips.cc/paper/by-source-2019-926</td>\n",
       "      <td>2019</td>\n",
       "      <td>Adversarial Learning</td>\n",
       "      <td>Algorithms -- Adversarial Learning</td>\n",
       "      <td>Algorithms</td>\n",
       "    </tr>\n",
       "    <tr>\n",
       "      <th>3</th>\n",
       "      <td>Tight Certificates of Adversarial Robustness f...</td>\n",
       "      <td>Strong theoretical guarantees of robustness ca...</td>\n",
       "      <td>http://papers.nips.cc/paper/by-source-2019-2720</td>\n",
       "      <td>2019</td>\n",
       "      <td>Adversarial Learning</td>\n",
       "      <td>Algorithms -- Adversarial Learning</td>\n",
       "      <td>Algorithms</td>\n",
       "    </tr>\n",
       "    <tr>\n",
       "      <th>4</th>\n",
       "      <td>Adversarial training for free!</td>\n",
       "      <td>Adversarial training, in which a network is tr...</td>\n",
       "      <td>http://papers.nips.cc/paper/by-source-2019-1853</td>\n",
       "      <td>2019</td>\n",
       "      <td>Adversarial Learning</td>\n",
       "      <td>Algorithms -- Adversarial Learning</td>\n",
       "      <td>Algorithms</td>\n",
       "    </tr>\n",
       "  </tbody>\n",
       "</table>\n",
       "</div>"
      ],
      "text/plain": [
       "                                               title  \\\n",
       "0  A Game Theoretic Approach to Class-wise Select...   \n",
       "1  A Little Is Enough: Circumventing Defenses For...   \n",
       "2  A New Defense Against Adversarial Images: Turn...   \n",
       "3  Tight Certificates of Adversarial Robustness f...   \n",
       "4                     Adversarial training for free!   \n",
       "\n",
       "                                            abstract  \\\n",
       "0  Selection of input features such as relevant p...   \n",
       "1  Distributed learning is central for large-scal...   \n",
       "2  Natural images are virtually surrounded by low...   \n",
       "3  Strong theoretical guarantees of robustness ca...   \n",
       "4  Adversarial training, in which a network is tr...   \n",
       "\n",
       "                                          pdf_link  year  \\\n",
       "0  http://papers.nips.cc/paper/by-source-2019-5315  2019   \n",
       "1  http://papers.nips.cc/paper/by-source-2019-4657  2019   \n",
       "2   http://papers.nips.cc/paper/by-source-2019-926  2019   \n",
       "3  http://papers.nips.cc/paper/by-source-2019-2720  2019   \n",
       "4  http://papers.nips.cc/paper/by-source-2019-1853  2019   \n",
       "\n",
       "                  track                      track_original  main_track  \n",
       "0  Adversarial Learning  Algorithms -- Adversarial Learning  Algorithms  \n",
       "1  Adversarial Learning  Algorithms -- Adversarial Learning  Algorithms  \n",
       "2  Adversarial Learning  Algorithms -- Adversarial Learning  Algorithms  \n",
       "3  Adversarial Learning  Algorithms -- Adversarial Learning  Algorithms  \n",
       "4  Adversarial Learning  Algorithms -- Adversarial Learning  Algorithms  "
      ]
     },
     "execution_count": 54,
     "metadata": {},
     "output_type": "execute_result"
    }
   ],
   "source": [
    "df = pd.read_csv('../../data/nips_with_track_cleaned.csv')\n",
    "df.head()"
   ]
  },
  {
   "cell_type": "code",
   "execution_count": 55,
   "metadata": {},
   "outputs": [
    {
     "data": {
      "text/plain": [
       "(8337, 7)"
      ]
     },
     "execution_count": 55,
     "metadata": {},
     "output_type": "execute_result"
    }
   ],
   "source": [
    "df.shape"
   ]
  },
  {
   "cell_type": "code",
   "execution_count": 56,
   "metadata": {},
   "outputs": [
    {
     "data": {
      "text/plain": [
       "main_track\n",
       "Algorithms                                         2185\n",
       "Applications                                       1346\n",
       "Data, Challenges, Implementations, and Software      34\n",
       "Deep Learning                                      1280\n",
       "NF                                                  421\n",
       "Neuroscience and Cognitive Science                  315\n",
       "Optimization                                        638\n",
       "Probabilistic Methods                               751\n",
       "Reinforcement Learning and Planning                 550\n",
       "Theory                                              817\n",
       "dtype: int64"
      ]
     },
     "execution_count": 56,
     "metadata": {},
     "output_type": "execute_result"
    }
   ],
   "source": [
    "df.groupby(\"main_track\").size()"
   ]
  },
  {
   "cell_type": "code",
   "execution_count": 59,
   "metadata": {},
   "outputs": [
    {
     "data": {
      "image/png": "[encoded data removed]",
      "text/plain": [
       "<Figure size 576x432 with 1 Axes>"
      ]
     },
     "metadata": {
      "needs_background": "light"
     },
     "output_type": "display_data"
    }
   ],
   "source": [
    "#check balance of classes\n",
    "\n",
    "import matplotlib.pyplot as plt\n",
    "\n",
    "fig = plt.figure(figsize=(8,6))\n",
    "df.groupby('main_track').title.count().plot.bar(ylim=0)\n",
    "\n",
    "plt.show()"
   ]
  },
  {
   "cell_type": "code",
   "execution_count": 60,
   "metadata": {},
   "outputs": [
    {
     "name": "stdout",
     "output_type": "stream",
     "text": [
      "number of NF rows: (421, 7)\n",
      "remaining observations: (7916, 7)\n"
     ]
    }
   ],
   "source": [
    "#get number of observations with 'Not Found/NF' main_track\n",
    "print(f\"number of NF rows: {df[df['main_track']== 'NF'].shape}\")\n",
    "\n",
    "#drop NF rows\n",
    "df = df[df['main_track'] != 'NF']\n",
    "\n",
    "df = df.reset_index(drop=True)\n",
    "\n",
    "print(f'remaining observations: {df.shape}')"
   ]
  },
  {
   "cell_type": "markdown",
   "metadata": {},
   "source": [
    "As the number of papers for 'Data, Challenges, Implementations, and Software' is too low to add information meaningfully, I will drop that track"
   ]
  },
  {
   "cell_type": "code",
   "execution_count": 61,
   "metadata": {},
   "outputs": [
    {
     "data": {
      "text/plain": [
       "(7882, 7)"
      ]
     },
     "execution_count": 61,
     "metadata": {},
     "output_type": "execute_result"
    }
   ],
   "source": [
    "df = df[df['main_track'] != 'Data, Challenges, Implementations, and Software']\n",
    "\n",
    "df.shape"
   ]
  },
  {
   "cell_type": "code",
   "execution_count": 62,
   "metadata": {},
   "outputs": [],
   "source": [
    "#combine 'abstract' and 'title' to create the text column\n",
    "df['text'] = df['abstract'] + \" \" + df['title']"
   ]
  },
  {
   "cell_type": "code",
   "execution_count": 63,
   "metadata": {},
   "outputs": [],
   "source": [
    "df.to_csv(\"../../data/nips_cleaned.csv\", index= False)"
   ]
  },
  {
   "cell_type": "markdown",
   "metadata": {},
   "source": [
    "#### Number of papers by year: "
   ]
  },
  {
   "cell_type": "code",
   "execution_count": 46,
   "metadata": {},
   "outputs": [
    {
     "data": {
      "text/plain": [
       "year\n",
       "2016    1415\n",
       "2017    1887\n",
       "2018    2770\n",
       "2019    1810\n",
       "dtype: int64"
      ]
     },
     "execution_count": 46,
     "metadata": {},
     "output_type": "execute_result"
    }
   ],
   "source": [
    "df.groupby('year').size()"
   ]
  },
  {
   "cell_type": "markdown",
   "metadata": {},
   "source": [
    "#### Number of papers by main track: "
   ]
  },
  {
   "cell_type": "code",
   "execution_count": 47,
   "metadata": {},
   "outputs": [
    {
     "data": {
      "text/plain": [
       "main_track\n",
       "Algorithms                             2185\n",
       "Applications                           1346\n",
       "Deep Learning                          1280\n",
       "Neuroscience and Cognitive Science      315\n",
       "Optimization                            638\n",
       "Probabilistic Methods                   751\n",
       "Reinforcement Learning and Planning     550\n",
       "Theory                                  817\n",
       "dtype: int64"
      ]
     },
     "execution_count": 47,
     "metadata": {},
     "output_type": "execute_result"
    }
   ],
   "source": [
    "df.groupby('main_track').size()"
   ]
  },
  {
   "cell_type": "markdown",
   "metadata": {},
   "source": [
    "#### Number of papers by track: "
   ]
  },
  {
   "cell_type": "code",
   "execution_count": 48,
   "metadata": {},
   "outputs": [
    {
     "data": {
      "text/html": [
       "<div>\n",
       "<style scoped>\n",
       "    .dataframe tbody tr th:only-of-type {\n",
       "        vertical-align: middle;\n",
       "    }\n",
       "\n",
       "    .dataframe tbody tr th {\n",
       "        vertical-align: top;\n",
       "    }\n",
       "\n",
       "    .dataframe thead th {\n",
       "        text-align: right;\n",
       "    }\n",
       "</style>\n",
       "<table border=\"1\" class=\"dataframe\">\n",
       "  <thead>\n",
       "    <tr style=\"text-align: right;\">\n",
       "      <th></th>\n",
       "      <th>count</th>\n",
       "    </tr>\n",
       "    <tr>\n",
       "      <th>track</th>\n",
       "      <th></th>\n",
       "    </tr>\n",
       "  </thead>\n",
       "  <tbody>\n",
       "    <tr>\n",
       "      <th>Learning Theory</th>\n",
       "      <td>350</td>\n",
       "    </tr>\n",
       "    <tr>\n",
       "      <th>Computer Vision</th>\n",
       "      <td>292</td>\n",
       "    </tr>\n",
       "    <tr>\n",
       "      <th>Generative Models</th>\n",
       "      <td>261</td>\n",
       "    </tr>\n",
       "    <tr>\n",
       "      <th>Reinforcement Learning</th>\n",
       "      <td>214</td>\n",
       "    </tr>\n",
       "    <tr>\n",
       "      <th>Convex Optimization</th>\n",
       "      <td>211</td>\n",
       "    </tr>\n",
       "    <tr>\n",
       "      <th>Deep Learning</th>\n",
       "      <td>183</td>\n",
       "    </tr>\n",
       "    <tr>\n",
       "      <th>Non-Convex Optimization</th>\n",
       "      <td>172</td>\n",
       "    </tr>\n",
       "    <tr>\n",
       "      <th>Online Learning</th>\n",
       "      <td>165</td>\n",
       "    </tr>\n",
       "    <tr>\n",
       "      <th>Bandit Algorithms</th>\n",
       "      <td>156</td>\n",
       "    </tr>\n",
       "    <tr>\n",
       "      <th>Optimization for Deep Networks</th>\n",
       "      <td>153</td>\n",
       "    </tr>\n",
       "  </tbody>\n",
       "</table>\n",
       "</div>"
      ],
      "text/plain": [
       "                                count\n",
       "track                                \n",
       "Learning Theory                   350\n",
       "Computer Vision                   292\n",
       "Generative Models                 261\n",
       "Reinforcement Learning            214\n",
       "Convex Optimization               211\n",
       "Deep Learning                     183\n",
       "Non-Convex Optimization           172\n",
       "Online Learning                   165\n",
       "Bandit Algorithms                 156\n",
       "Optimization for Deep Networks    153"
      ]
     },
     "execution_count": 48,
     "metadata": {},
     "output_type": "execute_result"
    }
   ],
   "source": [
    "pd.DataFrame({'count':df.groupby('track').size()}).sort_values(\"count\", ascending= False).head(10)"
   ]
  },
  {
   "cell_type": "markdown",
   "metadata": {},
   "source": [
    "#### Summary stats of word count by year, track and main_track"
   ]
  },
  {
   "cell_type": "code",
   "execution_count": 49,
   "metadata": {},
   "outputs": [
    {
     "data": {
      "text/plain": [
       "year\n",
       "2016    1576325\n",
       "2017    2103295\n",
       "2018    3149830\n",
       "2019    2149143\n",
       "Name: word_count, dtype: int64"
      ]
     },
     "execution_count": 49,
     "metadata": {},
     "output_type": "execute_result"
    }
   ],
   "source": [
    "#create a column of word_count per paper = length of abstract + title\n",
    "\n",
    "strlen = []\n",
    "for i,s in enumerate(df.abstract):   \n",
    "    strlen.append(len(s) + len(df.title[i]))\n",
    "    \n",
    "df['word_count'] = strlen\n",
    "\n",
    "df.to_csv(\"../../data/nips_cleaned.csv\", index= False)\n",
    "\n",
    "#word count by year\n",
    "df.groupby('year')['word_count'].sum()"
   ]
  },
  {
   "cell_type": "code",
   "execution_count": 50,
   "metadata": {},
   "outputs": [
    {
     "data": {
      "text/plain": [
       "main_track\n",
       "Algorithms                             2441567\n",
       "Applications                           1578833\n",
       "Deep Learning                          1475962\n",
       "Neuroscience and Cognitive Science      413442\n",
       "Optimization                            717716\n",
       "Probabilistic Methods                   819252\n",
       "Reinforcement Learning and Planning     617191\n",
       "Theory                                  914630\n",
       "Name: word_count, dtype: int64"
      ]
     },
     "execution_count": 50,
     "metadata": {},
     "output_type": "execute_result"
    }
   ],
   "source": [
    "#word count by main_track\n",
    "df.groupby('main_track')['word_count'].sum()"
   ]
  },
  {
   "cell_type": "code",
   "execution_count": 51,
   "metadata": {},
   "outputs": [
    {
     "data": {
      "text/html": [
       "<div>\n",
       "<style scoped>\n",
       "    .dataframe tbody tr th:only-of-type {\n",
       "        vertical-align: middle;\n",
       "    }\n",
       "\n",
       "    .dataframe tbody tr th {\n",
       "        vertical-align: top;\n",
       "    }\n",
       "\n",
       "    .dataframe thead th {\n",
       "        text-align: right;\n",
       "    }\n",
       "</style>\n",
       "<table border=\"1\" class=\"dataframe\">\n",
       "  <thead>\n",
       "    <tr style=\"text-align: right;\">\n",
       "      <th></th>\n",
       "      <th>word_count</th>\n",
       "    </tr>\n",
       "    <tr>\n",
       "      <th>track</th>\n",
       "      <th></th>\n",
       "    </tr>\n",
       "  </thead>\n",
       "  <tbody>\n",
       "    <tr>\n",
       "      <th>Learning Theory</th>\n",
       "      <td>379105</td>\n",
       "    </tr>\n",
       "    <tr>\n",
       "      <th>Computer Vision</th>\n",
       "      <td>341408</td>\n",
       "    </tr>\n",
       "    <tr>\n",
       "      <th>Generative Models</th>\n",
       "      <td>290346</td>\n",
       "    </tr>\n",
       "    <tr>\n",
       "      <th>Reinforcement Learning</th>\n",
       "      <td>246025</td>\n",
       "    </tr>\n",
       "    <tr>\n",
       "      <th>Convex Optimization</th>\n",
       "      <td>228891</td>\n",
       "    </tr>\n",
       "    <tr>\n",
       "      <th>Deep Learning</th>\n",
       "      <td>214098</td>\n",
       "    </tr>\n",
       "    <tr>\n",
       "      <th>Non-Convex Optimization</th>\n",
       "      <td>198427</td>\n",
       "    </tr>\n",
       "    <tr>\n",
       "      <th>Optimization for Deep Networks</th>\n",
       "      <td>178659</td>\n",
       "    </tr>\n",
       "    <tr>\n",
       "      <th>Online Learning</th>\n",
       "      <td>174574</td>\n",
       "    </tr>\n",
       "    <tr>\n",
       "      <th>Bandit Algorithms</th>\n",
       "      <td>170307</td>\n",
       "    </tr>\n",
       "  </tbody>\n",
       "</table>\n",
       "</div>"
      ],
      "text/plain": [
       "                                word_count\n",
       "track                                     \n",
       "Learning Theory                     379105\n",
       "Computer Vision                     341408\n",
       "Generative Models                   290346\n",
       "Reinforcement Learning              246025\n",
       "Convex Optimization                 228891\n",
       "Deep Learning                       214098\n",
       "Non-Convex Optimization             198427\n",
       "Optimization for Deep Networks      178659\n",
       "Online Learning                     174574\n",
       "Bandit Algorithms                   170307"
      ]
     },
     "execution_count": 51,
     "metadata": {},
     "output_type": "execute_result"
    }
   ],
   "source": [
    "#word count by track\n",
    "df.groupby(['track']).agg({'word_count':'sum'}).sort_values(\"word_count\", ascending= False).head(10)"
   ]
  },
  {
   "cell_type": "markdown",
   "metadata": {},
   "source": [
    "#### similarity across tracks and main_tracks "
   ]
  },
  {
   "cell_type": "code",
   "execution_count": 71,
   "metadata": {},
   "outputs": [],
   "source": [
    "#remove newline, special characters, stop words etc in the data\n",
    "\n",
    "main_tracks = df.main_track.unique().tolist()\n",
    "\n",
    "abstracts = []\n",
    "for t in main_tracks:\n",
    "    \n",
    "    temp = df[df['main_track'] == t]\n",
    "    abst = temp.text.tolist()\n",
    "    string = \",\".join(abst)\n",
    "    #string = string.lower()\n",
    "    #string = re.sub(\"-\", \" \", string)\n",
    "    #string = string.strip()\n",
    "    string = re.sub('[^a-zA-z\\- ]+', '', string)\n",
    "    \n",
    "    abstracts.append(string)"
   ]
  },
  {
   "cell_type": "code",
   "execution_count": 72,
   "metadata": {},
   "outputs": [],
   "source": [
    "mtrackdf = pd.DataFrame(main_tracks, columns = ['main_track'])\n",
    "\n",
    "mtrackdf['text'] = abstracts\n",
    "\n",
    "mtrackdf.to_csv(\"../../data/maintrack_abs_cleaned.csv\", index=False)"
   ]
  },
  {
   "cell_type": "code",
   "execution_count": 73,
   "metadata": {},
   "outputs": [
    {
     "name": "stdout",
     "output_type": "stream",
     "text": [
      "shape: (8, 2)\n"
     ]
    },
    {
     "data": {
      "text/html": [
       "<div>\n",
       "<style scoped>\n",
       "    .dataframe tbody tr th:only-of-type {\n",
       "        vertical-align: middle;\n",
       "    }\n",
       "\n",
       "    .dataframe tbody tr th {\n",
       "        vertical-align: top;\n",
       "    }\n",
       "\n",
       "    .dataframe thead th {\n",
       "        text-align: right;\n",
       "    }\n",
       "</style>\n",
       "<table border=\"1\" class=\"dataframe\">\n",
       "  <thead>\n",
       "    <tr style=\"text-align: right;\">\n",
       "      <th></th>\n",
       "      <th>main_track</th>\n",
       "      <th>text</th>\n",
       "    </tr>\n",
       "  </thead>\n",
       "  <tbody>\n",
       "    <tr>\n",
       "      <th>0</th>\n",
       "      <td>Algorithms</td>\n",
       "      <td>Selection of input features such as relevant p...</td>\n",
       "    </tr>\n",
       "    <tr>\n",
       "      <th>1</th>\n",
       "      <td>Applications</td>\n",
       "      <td>Large-scale distributed training of neural net...</td>\n",
       "    </tr>\n",
       "  </tbody>\n",
       "</table>\n",
       "</div>"
      ],
      "text/plain": [
       "     main_track                                               text\n",
       "0    Algorithms  Selection of input features such as relevant p...\n",
       "1  Applications  Large-scale distributed training of neural net..."
      ]
     },
     "execution_count": 73,
     "metadata": {},
     "output_type": "execute_result"
    }
   ],
   "source": [
    "print(f'shape: {mtrackdf.shape}')\n",
    "\n",
    "mtrackdf.head(2)"
   ]
  },
  {
   "cell_type": "code",
   "execution_count": 74,
   "metadata": {},
   "outputs": [],
   "source": [
    "#get most correlated terms across tracks\n",
    "\n",
    "from sklearn.feature_extraction.text import TfidfVectorizer\n",
    "from sklearn.preprocessing import LabelEncoder"
   ]
  },
  {
   "cell_type": "code",
   "execution_count": 77,
   "metadata": {},
   "outputs": [],
   "source": [
    "x = mtrackdf[['main_track', 'text']].copy()\n",
    "\n",
    "#encode \"main_track\" column\n",
    "lb = LabelEncoder()\n",
    "x['main_track_encoded'] = lb.fit_transform(x['main_track'])\n",
    "\n",
    "xdict = dict(x[['main_track', 'main_track_encoded']].values)\n",
    "\n",
    "#target array\n",
    "y = x['main_track_encoded'].copy()"
   ]
  },
  {
   "cell_type": "code",
   "execution_count": 79,
   "metadata": {},
   "outputs": [],
   "source": [
    "#make the tf-idf weighted DTM\n",
    "\n",
    "tfidf = TfidfVectorizer(sublinear_tf=True, min_df=5, max_df=700,\n",
    "                         stop_words='english',\n",
    "                        norm='l2', lowercase=True, encoding='latin-1', \n",
    "                        ngram_range=(1, 4))"
   ]
  },
  {
   "cell_type": "code",
   "execution_count": 80,
   "metadata": {},
   "outputs": [
    {
     "data": {
      "text/plain": [
       "(8, 13421)"
      ]
     },
     "execution_count": 80,
     "metadata": {},
     "output_type": "execute_result"
    }
   ],
   "source": [
    "features = tfidf.fit_transform(x.text).toarray()\n",
    "labels = x.main_track_encoded\n",
    "features.shape"
   ]
  },
  {
   "cell_type": "code",
   "execution_count": 81,
   "metadata": {},
   "outputs": [
    {
     "name": "stdout",
     "output_type": "stream",
     "text": [
      "  . Most correlated unigrams:\n",
      ". regularizationwe\n",
      ". thompson\n",
      ". agree\n",
      ". sort\n",
      ". linkage\n",
      ". wish\n",
      ". multitask\n",
      ". replaced\n",
      ". incurred\n",
      ". ordinal\n",
      "  . Most correlated bigrams:\n",
      ". generative framework\n",
      ". method estimate\n",
      ". learning rank\n",
      ". matches lower\n",
      ". algorithm improves\n",
      ". framework called\n",
      ". adversarial setting\n",
      ". simple approach\n",
      ". type generative\n",
      ". bandit setting\n",
      "  . Most correlated unigrams:\n",
      ". deconvolutional\n",
      ". editing\n",
      ". protected\n",
      ". annotation\n",
      ". disparate\n",
      ". transformer\n",
      ". contents\n",
      ". opinions\n",
      ". odds\n",
      ". databases\n",
      "  . Most correlated bigrams:\n",
      ". convolutional network\n",
      ". differentially private\n",
      ". strong baselines\n",
      ". attention models\n",
      ". fair representations\n",
      ". visual concepts\n",
      ". false positives\n",
      ". post processing\n",
      ". model general\n",
      ". object detection\n",
      "  . Most correlated unigrams:\n",
      ". quantum\n",
      ". vaes\n",
      ". vae\n",
      ". molecules\n",
      ". regret\n",
      ". penn\n",
      ". format\n",
      ". gru\n",
      ". optimizer\n",
      ". celeba\n",
      "  . Most correlated bigrams:\n",
      ". large batch\n",
      ". sequence generation\n",
      ". directly used\n",
      ". memory cost\n",
      ". information contained\n",
      ". based generative\n",
      ". batch sizes\n",
      ". iterative procedure\n",
      ". generative networks\n",
      ". generated samples\n",
      "  . Most correlated unigrams:\n",
      ". hippocampal\n",
      ". fitted\n",
      ". stimuli\n",
      ". gaze\n",
      ". elicited\n",
      ". perceived\n",
      ". dendritic\n",
      ". firing\n",
      ". primate\n",
      ". stimulus\n",
      "  . Most correlated bigrams:\n",
      ". object views\n",
      ". neural population\n",
      ". remains largely\n",
      ". learning rule\n",
      ". calcium imaging\n",
      ". human subjects\n",
      ". neural representations\n",
      ". neural data\n",
      ". neural circuits\n",
      ". brain areas\n",
      "  . Most correlated unigrams:\n",
      ". energies\n",
      ". polytopes\n",
      ". admm\n",
      ". submodularity\n",
      ". campaigns\n",
      ". matroid\n",
      ". monotone\n",
      ". interior\n",
      ". polyak\n",
      ". lojasiewicz\n",
      "  . Most correlated bigrams:\n",
      ". convergence theory\n",
      ". optimization stochastic\n",
      ". interior point\n",
      ". convex function\n",
      ". polyak lojasiewicz\n",
      ". saddle points\n",
      ". condition number\n",
      ". submodular function\n",
      ". distributed machine\n",
      ". submodular maximization\n",
      "  . Most correlated unigrams:\n",
      ". sampler\n",
      ". confounders\n",
      ". status\n",
      ". metropolis\n",
      ". crowdsourced\n",
      ". reparameterization\n",
      ". scan\n",
      ". confounded\n",
      ". stein\n",
      ". vaes\n",
      "  . Most correlated bigrams:\n",
      ". sequential monte\n",
      ". inference tasks\n",
      ". variational approximations\n",
      ". inference based\n",
      ". variational distributions\n",
      ". gaussian processeswe\n",
      ". stochastic variational\n",
      ". expectation propagation\n",
      ". distribution class\n",
      ". variational distribution\n",
      "  . Most correlated unigrams:\n",
      ". exit\n",
      ". tabular\n",
      ". actor\n",
      ". mdp\n",
      ". imitate\n",
      ". reactive\n",
      ". atari\n",
      ". pomdps\n",
      ". discounted\n",
      ". mdps\n",
      "  . Most correlated bigrams:\n",
      ". exploration strategy\n",
      ". optimal policies\n",
      ". rl methods\n",
      ". function approximators\n",
      ". goal state\n",
      ". atari games\n",
      ". deep rl\n",
      ". exploration exploitation\n",
      ". rl algorithms\n",
      ". agents learn\n",
      "  . Most correlated unigrams:\n",
      ". hinge\n",
      ". reached\n",
      ". frobenius\n",
      ". list\n",
      ". sigma\n",
      ". rademacher\n",
      ". servers\n",
      ". regressionwe\n",
      ". transductive\n",
      ". auctions\n",
      "  . Most correlated bigrams:\n",
      ". expected loss\n",
      ". learning examples\n",
      ". exponential families\n",
      ". amp algorithm\n",
      ". uniform distribution\n",
      ". estimating unknown\n",
      ". pac learning\n",
      ". sum games\n",
      ". sample test\n",
      ". pac bayesian\n"
     ]
    }
   ],
   "source": [
    "from sklearn.feature_selection import chi2\n",
    "import numpy as np\n",
    "\n",
    "N = 10\n",
    "for abst, track in sorted(xdict.items()):\n",
    "    features_chi2 = chi2(features, labels == track)\n",
    "    indices = np.argsort(features_chi2[0])\n",
    "    feature_names = np.array(tfidf.get_feature_names())[indices]\n",
    "    unigrams = [v for v in feature_names if len(v.split(' ')) == 1]\n",
    "    bigrams = [v for v in feature_names if len(v.split(' ')) == 2]\n",
    "    #print(\"# '{}':\".format(Product))\n",
    "    print(\"  . Most correlated unigrams:\\n. {}\".format('\\n. '.join(unigrams[-N:])))\n",
    "    print(\"  . Most correlated bigrams:\\n. {}\".format('\\n. '.join(bigrams[-N:])))"
   ]
  },
  {
   "cell_type": "code",
   "execution_count": null,
   "metadata": {},
   "outputs": [],
   "source": []
  }
 ],
 "metadata": {
  "kernelspec": {
   "display_name": "Python 3",
   "language": "python",
   "name": "python3"
  },
  "language_info": {
   "codemirror_mode": {
    "name": "ipython",
    "version": 3
   },
   "file_extension": ".py",
   "mimetype": "text/x-python",
   "name": "python",
   "nbconvert_exporter": "python",
   "pygments_lexer": "ipython3",
   "version": "3.7.6"
  },
  "toc": {
   "base_numbering": 1,
   "nav_menu": {},
   "number_sections": true,
   "sideBar": true,
   "skip_h1_title": false,
   "title_cell": "Table of Contents",
   "title_sidebar": "Contents",
   "toc_cell": false,
   "toc_position": {},
   "toc_section_display": true,
   "toc_window_display": false
  },
  "varInspector": {
   "cols": {
    "lenName": 16,
    "lenType": 16,
    "lenVar": 40
   },
   "kernels_config": {
    "python": {
     "delete_cmd_postfix": "",
     "delete_cmd_prefix": "del ",
     "library": "var_list.py",
     "varRefreshCmd": "print(var_dic_list())"
    },
    "r": {
     "delete_cmd_postfix": ") ",
     "delete_cmd_prefix": "rm(",
     "library": "var_list.r",
     "varRefreshCmd": "cat(var_dic_list()) "
    }
   },
   "types_to_exclude": [
    "module",
    "function",
    "builtin_function_or_method",
    "instance",
    "_Feature"
   ],
   "window_display": false
  }
 },
 "nbformat": 4,
 "nbformat_minor": 2
}
