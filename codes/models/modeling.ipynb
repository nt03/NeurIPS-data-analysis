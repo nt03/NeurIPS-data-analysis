{
 "cells": [
  {
   "cell_type": "code",
   "execution_count": 1,
   "metadata": {},
   "outputs": [],
   "source": [
    "import pandas as pd\n",
    "import re\n",
    "\n",
    "import seaborn as sns\n",
    "import matplotlib.pyplot as plt"
   ]
  },
  {
   "cell_type": "code",
   "execution_count": 2,
   "metadata": {},
   "outputs": [],
   "source": [
    "df = pd.read_csv(\"../../data/nips_cleaned.csv\")"
   ]
  },
  {
   "cell_type": "code",
   "execution_count": 3,
   "metadata": {
    "scrolled": true
   },
   "outputs": [
    {
     "data": {
      "text/html": [
       "<div>\n",
       "<style scoped>\n",
       "    .dataframe tbody tr th:only-of-type {\n",
       "        vertical-align: middle;\n",
       "    }\n",
       "\n",
       "    .dataframe tbody tr th {\n",
       "        vertical-align: top;\n",
       "    }\n",
       "\n",
       "    .dataframe thead th {\n",
       "        text-align: right;\n",
       "    }\n",
       "</style>\n",
       "<table border=\"1\" class=\"dataframe\">\n",
       "  <thead>\n",
       "    <tr style=\"text-align: right;\">\n",
       "      <th></th>\n",
       "      <th>title</th>\n",
       "      <th>abstract</th>\n",
       "      <th>pdf_link</th>\n",
       "      <th>year</th>\n",
       "      <th>track</th>\n",
       "      <th>track_original</th>\n",
       "      <th>main_track</th>\n",
       "      <th>text</th>\n",
       "    </tr>\n",
       "  </thead>\n",
       "  <tbody>\n",
       "    <tr>\n",
       "      <th>0</th>\n",
       "      <td>A Game Theoretic Approach to Class-wise Select...</td>\n",
       "      <td>Selection of input features such as relevant p...</td>\n",
       "      <td>http://papers.nips.cc/paper/by-source-2019-5315</td>\n",
       "      <td>2019</td>\n",
       "      <td>Adversarial Learning</td>\n",
       "      <td>Algorithms -- Adversarial Learning</td>\n",
       "      <td>Algorithms</td>\n",
       "      <td>Selection of input features such as relevant p...</td>\n",
       "    </tr>\n",
       "    <tr>\n",
       "      <th>1</th>\n",
       "      <td>A Little Is Enough: Circumventing Defenses For...</td>\n",
       "      <td>Distributed learning is central for large-scal...</td>\n",
       "      <td>http://papers.nips.cc/paper/by-source-2019-4657</td>\n",
       "      <td>2019</td>\n",
       "      <td>Adversarial Learning</td>\n",
       "      <td>Algorithms -- Adversarial Learning</td>\n",
       "      <td>Algorithms</td>\n",
       "      <td>Distributed learning is central for large-scal...</td>\n",
       "    </tr>\n",
       "    <tr>\n",
       "      <th>2</th>\n",
       "      <td>A New Defense Against Adversarial Images: Turn...</td>\n",
       "      <td>Natural images are virtually surrounded by low...</td>\n",
       "      <td>http://papers.nips.cc/paper/by-source-2019-926</td>\n",
       "      <td>2019</td>\n",
       "      <td>Adversarial Learning</td>\n",
       "      <td>Algorithms -- Adversarial Learning</td>\n",
       "      <td>Algorithms</td>\n",
       "      <td>Natural images are virtually surrounded by low...</td>\n",
       "    </tr>\n",
       "    <tr>\n",
       "      <th>3</th>\n",
       "      <td>Tight Certificates of Adversarial Robustness f...</td>\n",
       "      <td>Strong theoretical guarantees of robustness ca...</td>\n",
       "      <td>http://papers.nips.cc/paper/by-source-2019-2720</td>\n",
       "      <td>2019</td>\n",
       "      <td>Adversarial Learning</td>\n",
       "      <td>Algorithms -- Adversarial Learning</td>\n",
       "      <td>Algorithms</td>\n",
       "      <td>Strong theoretical guarantees of robustness ca...</td>\n",
       "    </tr>\n",
       "    <tr>\n",
       "      <th>4</th>\n",
       "      <td>Adversarial training for free!</td>\n",
       "      <td>Adversarial training, in which a network is tr...</td>\n",
       "      <td>http://papers.nips.cc/paper/by-source-2019-1853</td>\n",
       "      <td>2019</td>\n",
       "      <td>Adversarial Learning</td>\n",
       "      <td>Algorithms -- Adversarial Learning</td>\n",
       "      <td>Algorithms</td>\n",
       "      <td>Adversarial training, in which a network is tr...</td>\n",
       "    </tr>\n",
       "  </tbody>\n",
       "</table>\n",
       "</div>"
      ],
      "text/plain": [
       "                                               title  \\\n",
       "0  A Game Theoretic Approach to Class-wise Select...   \n",
       "1  A Little Is Enough: Circumventing Defenses For...   \n",
       "2  A New Defense Against Adversarial Images: Turn...   \n",
       "3  Tight Certificates of Adversarial Robustness f...   \n",
       "4                     Adversarial training for free!   \n",
       "\n",
       "                                            abstract  \\\n",
       "0  Selection of input features such as relevant p...   \n",
       "1  Distributed learning is central for large-scal...   \n",
       "2  Natural images are virtually surrounded by low...   \n",
       "3  Strong theoretical guarantees of robustness ca...   \n",
       "4  Adversarial training, in which a network is tr...   \n",
       "\n",
       "                                          pdf_link  year  \\\n",
       "0  http://papers.nips.cc/paper/by-source-2019-5315  2019   \n",
       "1  http://papers.nips.cc/paper/by-source-2019-4657  2019   \n",
       "2   http://papers.nips.cc/paper/by-source-2019-926  2019   \n",
       "3  http://papers.nips.cc/paper/by-source-2019-2720  2019   \n",
       "4  http://papers.nips.cc/paper/by-source-2019-1853  2019   \n",
       "\n",
       "                  track                      track_original  main_track  \\\n",
       "0  Adversarial Learning  Algorithms -- Adversarial Learning  Algorithms   \n",
       "1  Adversarial Learning  Algorithms -- Adversarial Learning  Algorithms   \n",
       "2  Adversarial Learning  Algorithms -- Adversarial Learning  Algorithms   \n",
       "3  Adversarial Learning  Algorithms -- Adversarial Learning  Algorithms   \n",
       "4  Adversarial Learning  Algorithms -- Adversarial Learning  Algorithms   \n",
       "\n",
       "                                                text  \n",
       "0  Selection of input features such as relevant p...  \n",
       "1  Distributed learning is central for large-scal...  \n",
       "2  Natural images are virtually surrounded by low...  \n",
       "3  Strong theoretical guarantees of robustness ca...  \n",
       "4  Adversarial training, in which a network is tr...  "
      ]
     },
     "execution_count": 3,
     "metadata": {},
     "output_type": "execute_result"
    }
   ],
   "source": [
    "df.head()"
   ]
  },
  {
   "cell_type": "code",
   "execution_count": 4,
   "metadata": {},
   "outputs": [],
   "source": [
    "from sklearn.feature_extraction.text import TfidfVectorizer\n",
    "from sklearn.preprocessing import LabelEncoder\n",
    "\n",
    "from sklearn.model_selection import train_test_split\n",
    "from sklearn.naive_bayes import MultinomialNB\n",
    "\n",
    "from sklearn.metrics import accuracy_score\n",
    "from sklearn.metrics import confusion_matrix\n",
    "\n",
    "from sklearn.model_selection import cross_val_score\n",
    "from sklearn.metrics import roc_curve, auc"
   ]
  },
  {
   "cell_type": "markdown",
   "metadata": {},
   "source": [
    "#### preprocessing"
   ]
  },
  {
   "cell_type": "code",
   "execution_count": 5,
   "metadata": {},
   "outputs": [],
   "source": [
    "#encode the main_track column\n",
    "\n",
    "lb = LabelEncoder()\n",
    "df['main_track_encoded'] = lb.fit_transform(df['main_track'])"
   ]
  },
  {
   "cell_type": "code",
   "execution_count": 6,
   "metadata": {},
   "outputs": [],
   "source": [
    "#create target and feature arrays\n",
    "\n",
    "x = df['text'].copy()\n",
    "\n",
    "y = df['main_track_encoded'].copy()"
   ]
  },
  {
   "cell_type": "code",
   "execution_count": 7,
   "metadata": {},
   "outputs": [],
   "source": [
    "#convert feature text values to a tf-idf weighted DTM\n",
    "\n",
    "tfidf = TfidfVectorizer(sublinear_tf=True, min_df=5, norm='l2', max_df=700,\n",
    "                        lowercase=True, encoding='utf-8',\n",
    "                        ngram_range=(1, 4), stop_words='english')\n",
    "\n",
    "Xtf = tfidf.fit_transform(x)"
   ]
  },
  {
   "cell_type": "code",
   "execution_count": 8,
   "metadata": {},
   "outputs": [
    {
     "data": {
      "text/plain": [
       "<7882x94527 sparse matrix of type '<class 'numpy.float64'>'\n",
       "\twith 1057575 stored elements in Compressed Sparse Row format>"
      ]
     },
     "execution_count": 8,
     "metadata": {},
     "output_type": "execute_result"
    }
   ],
   "source": [
    "Xtf"
   ]
  },
  {
   "cell_type": "code",
   "execution_count": 9,
   "metadata": {},
   "outputs": [],
   "source": [
    "#split the source array in test and train sets\n",
    "\n",
    "x_train, x_test, y_train, y_test = train_test_split(Xtf, y, test_size=0.25, random_state=42)"
   ]
  },
  {
   "cell_type": "markdown",
   "metadata": {},
   "source": [
    "#### Model: Multinomial Naive Bayes"
   ]
  },
  {
   "cell_type": "code",
   "execution_count": 10,
   "metadata": {},
   "outputs": [],
   "source": [
    "#fit a multinomial NB model\n",
    "mnb = MultinomialNB().fit(x_train, y_train)"
   ]
  },
  {
   "cell_type": "code",
   "execution_count": 11,
   "metadata": {},
   "outputs": [
    {
     "name": "stdout",
     "output_type": "stream",
     "text": [
      "0.3663115169964485\n"
     ]
    }
   ],
   "source": [
    "#accuracy score \n",
    "print(mnb.score(x_test, y_test))"
   ]
  },
  {
   "cell_type": "code",
   "execution_count": 12,
   "metadata": {},
   "outputs": [
    {
     "data": {
      "text/plain": [
       "array([0.39163498, 0.3460076 , 0.33756345, 0.38324873, 0.35786802,\n",
       "       0.37055838, 0.36167513, 0.35152284, 0.39593909, 0.32994924])"
      ]
     },
     "execution_count": 12,
     "metadata": {},
     "output_type": "execute_result"
    }
   ],
   "source": [
    "#performing 10-fold CV instead\n",
    "\n",
    "bayes = MultinomialNB()\n",
    "bayes.fit(Xtf,y)\n",
    "cross_val_score(bayes, Xtf, y, cv=10)"
   ]
  },
  {
   "cell_type": "code",
   "execution_count": 13,
   "metadata": {},
   "outputs": [],
   "source": [
    "bayes.fit(x_train, y_train)\n",
    "y_pred = bayes.predict(x_test)"
   ]
  },
  {
   "cell_type": "code",
   "execution_count": 14,
   "metadata": {},
   "outputs": [
    {
     "name": "stdout",
     "output_type": "stream",
     "text": [
      "AUC SVC:  0.5354729197379341\n"
     ]
    }
   ],
   "source": [
    "# get AUC score: from true positives and false positives\n",
    "\n",
    "false_positive_rate, true_positive_rate, thresholds = roc_curve(y_test, y_pred, pos_label=1)\n",
    "rates = pd.DataFrame(dict(fpr=false_positive_rate, tpr=true_positive_rate))\n",
    "roc_auc = auc(rates['fpr'], rates['tpr'])\n",
    "print('AUC SVC: ', roc_auc)"
   ]
  },
  {
   "cell_type": "code",
   "execution_count": 15,
   "metadata": {},
   "outputs": [
    {
     "data": {
      "image/png": "[encoded data removed]",
      "text/plain": [
       "<Figure size 432x288 with 1 Axes>"
      ]
     },
     "metadata": {
      "needs_background": "light"
     },
     "output_type": "display_data"
    }
   ],
   "source": [
    "#ROC curve \n",
    "\n",
    "plt.plot(rates.fpr, rates.tpr, 'b',color='black', label = 'Naive Bayes = %0.2f' % roc_auc)\n",
    "\n",
    "plt.plot([0, 1], [0, 1],'r--')\n",
    "plt.xlim([0, 1])\n",
    "plt.ylim([0, 1])\n",
    "plt.ylabel('True Positive Rate')\n",
    "plt.xlabel('False Positive Rate')\n",
    "plt.title('ROC')\n",
    "plt.legend(loc = 'lower right')\n",
    "plt.show()"
   ]
  },
  {
   "cell_type": "code",
   "execution_count": 17,
   "metadata": {},
   "outputs": [
    {
     "data": {
      "image/png": "[encoded data removed]",
      "text/plain": [
       "<Figure size 432x432 with 2 Axes>"
      ]
     },
     "metadata": {
      "needs_background": "light"
     },
     "output_type": "display_data"
    }
   ],
   "source": [
    "#plotting the confusion matrix for MNB model\n",
    "\n",
    "cm = confusion_matrix(y_test, y_pred)\n",
    "\n",
    "plt.figure(figsize=(6,6))\n",
    "sns.heatmap(cm, annot=True, fmt = \"10.0f\", linewidths=.5, square = True, cmap = 'Blues');\n",
    "plt.ylabel('Actual');\n",
    "plt.xlabel('Predicted');\n",
    "all_sample_title = 'Accuracy Score: {0}'.format(round(np.mean(accuracy_score(y_test, y_pred)),3))\n",
    "plt.title(all_sample_title, size = 15);"
   ]
  },
  {
   "cell_type": "code",
   "execution_count": 18,
   "metadata": {},
   "outputs": [
    {
     "data": {
      "text/html": [
       "<div>\n",
       "<style scoped>\n",
       "    .dataframe tbody tr th:only-of-type {\n",
       "        vertical-align: middle;\n",
       "    }\n",
       "\n",
       "    .dataframe tbody tr th {\n",
       "        vertical-align: top;\n",
       "    }\n",
       "\n",
       "    .dataframe thead th {\n",
       "        text-align: right;\n",
       "    }\n",
       "</style>\n",
       "<table border=\"1\" class=\"dataframe\">\n",
       "  <thead>\n",
       "    <tr style=\"text-align: right;\">\n",
       "      <th></th>\n",
       "      <th>main_track</th>\n",
       "      <th>main_track_encoded</th>\n",
       "    </tr>\n",
       "  </thead>\n",
       "  <tbody>\n",
       "    <tr>\n",
       "      <th>0</th>\n",
       "      <td>Algorithms</td>\n",
       "      <td>0</td>\n",
       "    </tr>\n",
       "    <tr>\n",
       "      <th>93</th>\n",
       "      <td>Applications</td>\n",
       "      <td>1</td>\n",
       "    </tr>\n",
       "    <tr>\n",
       "      <th>113</th>\n",
       "      <td>Deep Learning</td>\n",
       "      <td>2</td>\n",
       "    </tr>\n",
       "    <tr>\n",
       "      <th>762</th>\n",
       "      <td>Neuroscience and Cognitive Science</td>\n",
       "      <td>3</td>\n",
       "    </tr>\n",
       "    <tr>\n",
       "      <th>214</th>\n",
       "      <td>Optimization</td>\n",
       "      <td>4</td>\n",
       "    </tr>\n",
       "    <tr>\n",
       "      <th>219</th>\n",
       "      <td>Probabilistic Methods</td>\n",
       "      <td>5</td>\n",
       "    </tr>\n",
       "    <tr>\n",
       "      <th>238</th>\n",
       "      <td>Reinforcement Learning and Planning</td>\n",
       "      <td>6</td>\n",
       "    </tr>\n",
       "    <tr>\n",
       "      <th>271</th>\n",
       "      <td>Theory</td>\n",
       "      <td>7</td>\n",
       "    </tr>\n",
       "  </tbody>\n",
       "</table>\n",
       "</div>"
      ],
      "text/plain": [
       "                              main_track  main_track_encoded\n",
       "0                             Algorithms                   0\n",
       "93                          Applications                   1\n",
       "113                        Deep Learning                   2\n",
       "762   Neuroscience and Cognitive Science                   3\n",
       "214                         Optimization                   4\n",
       "219                Probabilistic Methods                   5\n",
       "238  Reinforcement Learning and Planning                   6\n",
       "271                               Theory                   7"
      ]
     },
     "execution_count": 18,
     "metadata": {},
     "output_type": "execute_result"
    }
   ],
   "source": [
    "df[['main_track', 'main_track_encoded']].drop_duplicates().sort_values(by='main_track_encoded')"
   ]
  },
  {
   "cell_type": "markdown",
   "metadata": {},
   "source": [
    "#### XGBoost Model"
   ]
  },
  {
   "cell_type": "code",
   "execution_count": 19,
   "metadata": {},
   "outputs": [],
   "source": [
    "from xgboost import XGBClassifier"
   ]
  },
  {
   "cell_type": "code",
   "execution_count": 20,
   "metadata": {},
   "outputs": [
    {
     "data": {
      "text/plain": [
       "XGBClassifier(base_score=0.5, booster='gbtree', colsample_bylevel=1,\n",
       "              colsample_bynode=1, colsample_bytree=1, gamma=0,\n",
       "              learning_rate=0.1, max_delta_step=0, max_depth=3,\n",
       "              min_child_weight=1, missing=None, n_estimators=100, n_jobs=1,\n",
       "              nthread=None, objective='multi:softprob', random_state=0,\n",
       "              reg_alpha=0, reg_lambda=1, scale_pos_weight=1, seed=None,\n",
       "              silent=None, subsample=1, verbosity=1)"
      ]
     },
     "execution_count": 20,
     "metadata": {},
     "output_type": "execute_result"
    }
   ],
   "source": [
    "# fit model on training data\n",
    "model = XGBClassifier()\n",
    "model.fit(x_train, y_train)"
   ]
  },
  {
   "cell_type": "code",
   "execution_count": 23,
   "metadata": {},
   "outputs": [],
   "source": [
    "# make predictions for test data\n",
    "y_pred = model.predict(x_test)\n",
    "predictions = [round(value) for value in y_pred]"
   ]
  },
  {
   "cell_type": "code",
   "execution_count": 24,
   "metadata": {},
   "outputs": [
    {
     "name": "stdout",
     "output_type": "stream",
     "text": [
      "Accuracy: 46.63%\n"
     ]
    }
   ],
   "source": [
    "# evaluate predictions\n",
    "accuracy = accuracy_score(y_test, predictions)\n",
    "print(\"Accuracy: %.2f%%\" % (accuracy * 100.0))"
   ]
  },
  {
   "cell_type": "code",
   "execution_count": 25,
   "metadata": {},
   "outputs": [
    {
     "name": "stdout",
     "output_type": "stream",
     "text": [
      "AUC SVC:  0.44569590688325744\n"
     ]
    }
   ],
   "source": [
    "# get AUC score: from true positives and false positives\n",
    "\n",
    "false_positive_rate, true_positive_rate, thresholds = roc_curve(y_test, y_pred, pos_label=1)\n",
    "rates = pd.DataFrame(dict(fpr=false_positive_rate, tpr=true_positive_rate))\n",
    "roc_auc = auc(rates['fpr'], rates['tpr'])\n",
    "print('AUC SVC: ', roc_auc)"
   ]
  },
  {
   "cell_type": "code",
   "execution_count": 26,
   "metadata": {},
   "outputs": [
    {
     "data": {
      "image/png": "[encoded data removed]",
      "text/plain": [
       "<Figure size 432x288 with 1 Axes>"
      ]
     },
     "metadata": {
      "needs_background": "light"
     },
     "output_type": "display_data"
    }
   ],
   "source": [
    "#ROC curve \n",
    "\n",
    "plt.plot(rates.fpr, rates.tpr, 'b',color='black', label = 'Naive Bayes = %0.2f' % roc_auc)\n",
    "\n",
    "plt.plot([0, 1], [0, 1],'r--')\n",
    "plt.xlim([0, 1])\n",
    "plt.ylim([0, 1])\n",
    "plt.ylabel('True Positive Rate')\n",
    "plt.xlabel('False Positive Rate')\n",
    "plt.title('ROC')\n",
    "plt.legend(loc = 'lower right')\n",
    "plt.show()"
   ]
  },
  {
   "cell_type": "code",
   "execution_count": 27,
   "metadata": {},
   "outputs": [
    {
     "data": {
      "image/png": "[encoded data removed]",
      "text/plain": [
       "<Figure size 648x648 with 2 Axes>"
      ]
     },
     "metadata": {
      "needs_background": "light"
     },
     "output_type": "display_data"
    }
   ],
   "source": [
    "#confusion matrix for the NB classifier\n",
    "\n",
    "cm = confusion_matrix(y_test, y_pred)\n",
    "\n",
    "plt.figure(figsize=(9,9))\n",
    "sns.heatmap(cm, annot=True, fmt = \"10.0f\", linewidths=.5, square = True, cmap = 'Blues');\n",
    "plt.ylabel('Actual');\n",
    "plt.xlabel('Predicted');\n",
    "all_sample_title = 'Accuracy Score: {0}'.format(round(np.mean(accuracy_score(y_test, y_pred)),3))\n",
    "plt.title(all_sample_title, size = 15);"
   ]
  },
  {
   "cell_type": "code",
   "execution_count": null,
   "metadata": {},
   "outputs": [],
   "source": []
  }
 ],
 "metadata": {
  "kernelspec": {
   "display_name": "Python 3",
   "language": "python",
   "name": "python3"
  },
  "language_info": {
   "codemirror_mode": {
    "name": "ipython",
    "version": 3
   },
   "file_extension": ".py",
   "mimetype": "text/x-python",
   "name": "python",
   "nbconvert_exporter": "python",
   "pygments_lexer": "ipython3",
   "version": "3.7.6"
  },
  "toc": {
   "base_numbering": 1,
   "nav_menu": {},
   "number_sections": true,
   "sideBar": true,
   "skip_h1_title": false,
   "title_cell": "Table of Contents",
   "title_sidebar": "Contents",
   "toc_cell": false,
   "toc_position": {},
   "toc_section_display": true,
   "toc_window_display": false
  },
  "varInspector": {
   "cols": {
    "lenName": 16,
    "lenType": 16,
    "lenVar": 40
   },
   "kernels_config": {
    "python": {
     "delete_cmd_postfix": "",
     "delete_cmd_prefix": "del ",
     "library": "var_list.py",
     "varRefreshCmd": "print(var_dic_list())"
    },
    "r": {
     "delete_cmd_postfix": ") ",
     "delete_cmd_prefix": "rm(",
     "library": "var_list.r",
     "varRefreshCmd": "cat(var_dic_list()) "
    }
   },
   "types_to_exclude": [
    "module",
    "function",
    "builtin_function_or_method",
    "instance",
    "_Feature"
   ],
   "window_display": false
  }
 },
 "nbformat": 4,
 "nbformat_minor": 2
}
